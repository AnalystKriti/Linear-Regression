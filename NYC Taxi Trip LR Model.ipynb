{
 "cells": [
  {
   "cell_type": "markdown",
   "id": "b95f5004",
   "metadata": {},
   "source": [
    "# NYC Taxi Trip LR Model"
   ]
  },
  {
   "cell_type": "markdown",
   "id": "9ad7ae5e",
   "metadata": {},
   "source": [
    "### Importing libraries"
   ]
  },
  {
   "cell_type": "code",
   "execution_count": 1,
   "id": "9461673f",
   "metadata": {},
   "outputs": [],
   "source": [
    "import pandas as pd\n",
    "import numpy as np\n",
    "import matplotlib.pyplot as plt\n",
    "import seaborn as sns"
   ]
  },
  {
   "cell_type": "markdown",
   "id": "2c709bff",
   "metadata": {},
   "source": [
    "### Loading Dataset"
   ]
  },
  {
   "cell_type": "code",
   "execution_count": 2,
   "id": "572c4e44",
   "metadata": {},
   "outputs": [
    {
     "data": {
      "text/plain": [
       "(729322, 11)"
      ]
     },
     "execution_count": 2,
     "metadata": {},
     "output_type": "execute_result"
    }
   ],
   "source": [
    "df = pd.read_csv('IST DSS Notes/ISTDSS ML&EDA/ML&EDA Final Project/nyc_taxi_trip_duration.csv')\n",
    "df.shape"
   ]
  },
  {
   "cell_type": "code",
   "execution_count": 3,
   "id": "f6d7000c",
   "metadata": {
    "scrolled": true
   },
   "outputs": [
    {
     "data": {
      "text/html": [
       "<div>\n",
       "<style scoped>\n",
       "    .dataframe tbody tr th:only-of-type {\n",
       "        vertical-align: middle;\n",
       "    }\n",
       "\n",
       "    .dataframe tbody tr th {\n",
       "        vertical-align: top;\n",
       "    }\n",
       "\n",
       "    .dataframe thead th {\n",
       "        text-align: right;\n",
       "    }\n",
       "</style>\n",
       "<table border=\"1\" class=\"dataframe\">\n",
       "  <thead>\n",
       "    <tr style=\"text-align: right;\">\n",
       "      <th></th>\n",
       "      <th>id</th>\n",
       "      <th>vendor_id</th>\n",
       "      <th>pickup_datetime</th>\n",
       "      <th>dropoff_datetime</th>\n",
       "      <th>passenger_count</th>\n",
       "      <th>pickup_longitude</th>\n",
       "      <th>pickup_latitude</th>\n",
       "      <th>dropoff_longitude</th>\n",
       "      <th>dropoff_latitude</th>\n",
       "      <th>store_and_fwd_flag</th>\n",
       "      <th>trip_duration</th>\n",
       "    </tr>\n",
       "  </thead>\n",
       "  <tbody>\n",
       "    <tr>\n",
       "      <th>0</th>\n",
       "      <td>id1080784</td>\n",
       "      <td>2</td>\n",
       "      <td>2016-02-29 16:40:21</td>\n",
       "      <td>2016-02-29 16:47:01</td>\n",
       "      <td>1</td>\n",
       "      <td>-73.953918</td>\n",
       "      <td>40.778873</td>\n",
       "      <td>-73.963875</td>\n",
       "      <td>40.771164</td>\n",
       "      <td>N</td>\n",
       "      <td>400</td>\n",
       "    </tr>\n",
       "    <tr>\n",
       "      <th>1</th>\n",
       "      <td>id0889885</td>\n",
       "      <td>1</td>\n",
       "      <td>2016-03-11 23:35:37</td>\n",
       "      <td>2016-03-11 23:53:57</td>\n",
       "      <td>2</td>\n",
       "      <td>-73.988312</td>\n",
       "      <td>40.731743</td>\n",
       "      <td>-73.994751</td>\n",
       "      <td>40.694931</td>\n",
       "      <td>N</td>\n",
       "      <td>1100</td>\n",
       "    </tr>\n",
       "    <tr>\n",
       "      <th>2</th>\n",
       "      <td>id0857912</td>\n",
       "      <td>2</td>\n",
       "      <td>2016-02-21 17:59:33</td>\n",
       "      <td>2016-02-21 18:26:48</td>\n",
       "      <td>2</td>\n",
       "      <td>-73.997314</td>\n",
       "      <td>40.721458</td>\n",
       "      <td>-73.948029</td>\n",
       "      <td>40.774918</td>\n",
       "      <td>N</td>\n",
       "      <td>1635</td>\n",
       "    </tr>\n",
       "    <tr>\n",
       "      <th>3</th>\n",
       "      <td>id3744273</td>\n",
       "      <td>2</td>\n",
       "      <td>2016-01-05 09:44:31</td>\n",
       "      <td>2016-01-05 10:03:32</td>\n",
       "      <td>6</td>\n",
       "      <td>-73.961670</td>\n",
       "      <td>40.759720</td>\n",
       "      <td>-73.956779</td>\n",
       "      <td>40.780628</td>\n",
       "      <td>N</td>\n",
       "      <td>1141</td>\n",
       "    </tr>\n",
       "    <tr>\n",
       "      <th>4</th>\n",
       "      <td>id0232939</td>\n",
       "      <td>1</td>\n",
       "      <td>2016-02-17 06:42:23</td>\n",
       "      <td>2016-02-17 06:56:31</td>\n",
       "      <td>1</td>\n",
       "      <td>-74.017120</td>\n",
       "      <td>40.708469</td>\n",
       "      <td>-73.988182</td>\n",
       "      <td>40.740631</td>\n",
       "      <td>N</td>\n",
       "      <td>848</td>\n",
       "    </tr>\n",
       "  </tbody>\n",
       "</table>\n",
       "</div>"
      ],
      "text/plain": [
       "          id  vendor_id      pickup_datetime     dropoff_datetime  \\\n",
       "0  id1080784          2  2016-02-29 16:40:21  2016-02-29 16:47:01   \n",
       "1  id0889885          1  2016-03-11 23:35:37  2016-03-11 23:53:57   \n",
       "2  id0857912          2  2016-02-21 17:59:33  2016-02-21 18:26:48   \n",
       "3  id3744273          2  2016-01-05 09:44:31  2016-01-05 10:03:32   \n",
       "4  id0232939          1  2016-02-17 06:42:23  2016-02-17 06:56:31   \n",
       "\n",
       "   passenger_count  pickup_longitude  pickup_latitude  dropoff_longitude  \\\n",
       "0                1        -73.953918        40.778873         -73.963875   \n",
       "1                2        -73.988312        40.731743         -73.994751   \n",
       "2                2        -73.997314        40.721458         -73.948029   \n",
       "3                6        -73.961670        40.759720         -73.956779   \n",
       "4                1        -74.017120        40.708469         -73.988182   \n",
       "\n",
       "   dropoff_latitude store_and_fwd_flag  trip_duration  \n",
       "0         40.771164                  N            400  \n",
       "1         40.694931                  N           1100  \n",
       "2         40.774918                  N           1635  \n",
       "3         40.780628                  N           1141  \n",
       "4         40.740631                  N            848  "
      ]
     },
     "execution_count": 3,
     "metadata": {},
     "output_type": "execute_result"
    }
   ],
   "source": [
    "# displaying first 5 rows of the dataset\n",
    "df.head()"
   ]
  },
  {
   "cell_type": "markdown",
   "id": "4712c437",
   "metadata": {},
   "source": [
    "### Checking missing values"
   ]
  },
  {
   "cell_type": "code",
   "execution_count": 4,
   "id": "d0f21e8c",
   "metadata": {},
   "outputs": [
    {
     "data": {
      "text/plain": [
       "id                    0\n",
       "vendor_id             0\n",
       "pickup_datetime       0\n",
       "dropoff_datetime      0\n",
       "passenger_count       0\n",
       "pickup_longitude      0\n",
       "pickup_latitude       0\n",
       "dropoff_longitude     0\n",
       "dropoff_latitude      0\n",
       "store_and_fwd_flag    0\n",
       "trip_duration         0\n",
       "dtype: int64"
      ]
     },
     "execution_count": 4,
     "metadata": {},
     "output_type": "execute_result"
    }
   ],
   "source": [
    "# checking for nulls across entire dataset\n",
    "df.isnull().sum()"
   ]
  },
  {
   "cell_type": "code",
   "execution_count": 5,
   "id": "009a554a",
   "metadata": {},
   "outputs": [
    {
     "data": {
      "text/plain": [
       "id                     object\n",
       "vendor_id               int64\n",
       "pickup_datetime        object\n",
       "dropoff_datetime       object\n",
       "passenger_count         int64\n",
       "pickup_longitude      float64\n",
       "pickup_latitude       float64\n",
       "dropoff_longitude     float64\n",
       "dropoff_latitude      float64\n",
       "store_and_fwd_flag     object\n",
       "trip_duration           int64\n",
       "dtype: object"
      ]
     },
     "execution_count": 5,
     "metadata": {},
     "output_type": "execute_result"
    }
   ],
   "source": [
    "# identifying datatypes of variables\n",
    "df.dtypes"
   ]
  },
  {
   "cell_type": "code",
   "execution_count": 6,
   "id": "e9c85120",
   "metadata": {},
   "outputs": [
    {
     "data": {
      "text/html": [
       "<div>\n",
       "<style scoped>\n",
       "    .dataframe tbody tr th:only-of-type {\n",
       "        vertical-align: middle;\n",
       "    }\n",
       "\n",
       "    .dataframe tbody tr th {\n",
       "        vertical-align: top;\n",
       "    }\n",
       "\n",
       "    .dataframe thead th {\n",
       "        text-align: right;\n",
       "    }\n",
       "</style>\n",
       "<table border=\"1\" class=\"dataframe\">\n",
       "  <thead>\n",
       "    <tr style=\"text-align: right;\">\n",
       "      <th></th>\n",
       "      <th>vendor_id</th>\n",
       "      <th>passenger_count</th>\n",
       "      <th>pickup_longitude</th>\n",
       "      <th>pickup_latitude</th>\n",
       "      <th>dropoff_longitude</th>\n",
       "      <th>dropoff_latitude</th>\n",
       "      <th>trip_duration</th>\n",
       "    </tr>\n",
       "  </thead>\n",
       "  <tbody>\n",
       "    <tr>\n",
       "      <th>count</th>\n",
       "      <td>729322.000000</td>\n",
       "      <td>729322.000000</td>\n",
       "      <td>729322.000000</td>\n",
       "      <td>729322.000000</td>\n",
       "      <td>729322.000000</td>\n",
       "      <td>729322.000000</td>\n",
       "      <td>7.293220e+05</td>\n",
       "    </tr>\n",
       "    <tr>\n",
       "      <th>mean</th>\n",
       "      <td>1.535403</td>\n",
       "      <td>1.662055</td>\n",
       "      <td>-73.973513</td>\n",
       "      <td>40.750919</td>\n",
       "      <td>-73.973422</td>\n",
       "      <td>40.751775</td>\n",
       "      <td>9.522291e+02</td>\n",
       "    </tr>\n",
       "    <tr>\n",
       "      <th>std</th>\n",
       "      <td>0.498745</td>\n",
       "      <td>1.312446</td>\n",
       "      <td>0.069754</td>\n",
       "      <td>0.033594</td>\n",
       "      <td>0.069588</td>\n",
       "      <td>0.036037</td>\n",
       "      <td>3.864626e+03</td>\n",
       "    </tr>\n",
       "    <tr>\n",
       "      <th>min</th>\n",
       "      <td>1.000000</td>\n",
       "      <td>0.000000</td>\n",
       "      <td>-121.933342</td>\n",
       "      <td>34.712234</td>\n",
       "      <td>-121.933304</td>\n",
       "      <td>32.181141</td>\n",
       "      <td>1.000000e+00</td>\n",
       "    </tr>\n",
       "    <tr>\n",
       "      <th>25%</th>\n",
       "      <td>1.000000</td>\n",
       "      <td>1.000000</td>\n",
       "      <td>-73.991859</td>\n",
       "      <td>40.737335</td>\n",
       "      <td>-73.991318</td>\n",
       "      <td>40.735931</td>\n",
       "      <td>3.970000e+02</td>\n",
       "    </tr>\n",
       "    <tr>\n",
       "      <th>50%</th>\n",
       "      <td>2.000000</td>\n",
       "      <td>1.000000</td>\n",
       "      <td>-73.981758</td>\n",
       "      <td>40.754070</td>\n",
       "      <td>-73.979759</td>\n",
       "      <td>40.754509</td>\n",
       "      <td>6.630000e+02</td>\n",
       "    </tr>\n",
       "    <tr>\n",
       "      <th>75%</th>\n",
       "      <td>2.000000</td>\n",
       "      <td>2.000000</td>\n",
       "      <td>-73.967361</td>\n",
       "      <td>40.768314</td>\n",
       "      <td>-73.963036</td>\n",
       "      <td>40.769741</td>\n",
       "      <td>1.075000e+03</td>\n",
       "    </tr>\n",
       "    <tr>\n",
       "      <th>max</th>\n",
       "      <td>2.000000</td>\n",
       "      <td>9.000000</td>\n",
       "      <td>-65.897385</td>\n",
       "      <td>51.881084</td>\n",
       "      <td>-65.897385</td>\n",
       "      <td>43.921028</td>\n",
       "      <td>1.939736e+06</td>\n",
       "    </tr>\n",
       "  </tbody>\n",
       "</table>\n",
       "</div>"
      ],
      "text/plain": [
       "           vendor_id  passenger_count  pickup_longitude  pickup_latitude  \\\n",
       "count  729322.000000    729322.000000     729322.000000    729322.000000   \n",
       "mean        1.535403         1.662055        -73.973513        40.750919   \n",
       "std         0.498745         1.312446          0.069754         0.033594   \n",
       "min         1.000000         0.000000       -121.933342        34.712234   \n",
       "25%         1.000000         1.000000        -73.991859        40.737335   \n",
       "50%         2.000000         1.000000        -73.981758        40.754070   \n",
       "75%         2.000000         2.000000        -73.967361        40.768314   \n",
       "max         2.000000         9.000000        -65.897385        51.881084   \n",
       "\n",
       "       dropoff_longitude  dropoff_latitude  trip_duration  \n",
       "count      729322.000000     729322.000000   7.293220e+05  \n",
       "mean          -73.973422         40.751775   9.522291e+02  \n",
       "std             0.069588          0.036037   3.864626e+03  \n",
       "min          -121.933304         32.181141   1.000000e+00  \n",
       "25%           -73.991318         40.735931   3.970000e+02  \n",
       "50%           -73.979759         40.754509   6.630000e+02  \n",
       "75%           -73.963036         40.769741   1.075000e+03  \n",
       "max           -65.897385         43.921028   1.939736e+06  "
      ]
     },
     "execution_count": 6,
     "metadata": {},
     "output_type": "execute_result"
    }
   ],
   "source": [
    "# performing descriptive analysis\n",
    "df.describe()"
   ]
  },
  {
   "cell_type": "markdown",
   "id": "19d09334",
   "metadata": {},
   "source": [
    "### Feature Creation"
   ]
  },
  {
   "cell_type": "code",
   "execution_count": 7,
   "id": "29ab58ab",
   "metadata": {},
   "outputs": [
    {
     "data": {
      "text/html": [
       "<div>\n",
       "<style scoped>\n",
       "    .dataframe tbody tr th:only-of-type {\n",
       "        vertical-align: middle;\n",
       "    }\n",
       "\n",
       "    .dataframe tbody tr th {\n",
       "        vertical-align: top;\n",
       "    }\n",
       "\n",
       "    .dataframe thead th {\n",
       "        text-align: right;\n",
       "    }\n",
       "</style>\n",
       "<table border=\"1\" class=\"dataframe\">\n",
       "  <thead>\n",
       "    <tr style=\"text-align: right;\">\n",
       "      <th></th>\n",
       "      <th>vendor_id</th>\n",
       "      <th>pickup_datetime</th>\n",
       "      <th>dropoff_datetime</th>\n",
       "      <th>passenger_count</th>\n",
       "      <th>pickup_longitude</th>\n",
       "      <th>pickup_latitude</th>\n",
       "      <th>dropoff_longitude</th>\n",
       "      <th>dropoff_latitude</th>\n",
       "      <th>store_and_fwd_flag</th>\n",
       "      <th>trip_duration</th>\n",
       "    </tr>\n",
       "  </thead>\n",
       "  <tbody>\n",
       "    <tr>\n",
       "      <th>0</th>\n",
       "      <td>2</td>\n",
       "      <td>2016-02-29 16:40:21</td>\n",
       "      <td>2016-02-29 16:47:01</td>\n",
       "      <td>1</td>\n",
       "      <td>-73.953918</td>\n",
       "      <td>40.778873</td>\n",
       "      <td>-73.963875</td>\n",
       "      <td>40.771164</td>\n",
       "      <td>0</td>\n",
       "      <td>400</td>\n",
       "    </tr>\n",
       "    <tr>\n",
       "      <th>1</th>\n",
       "      <td>1</td>\n",
       "      <td>2016-03-11 23:35:37</td>\n",
       "      <td>2016-03-11 23:53:57</td>\n",
       "      <td>2</td>\n",
       "      <td>-73.988312</td>\n",
       "      <td>40.731743</td>\n",
       "      <td>-73.994751</td>\n",
       "      <td>40.694931</td>\n",
       "      <td>0</td>\n",
       "      <td>1100</td>\n",
       "    </tr>\n",
       "    <tr>\n",
       "      <th>2</th>\n",
       "      <td>2</td>\n",
       "      <td>2016-02-21 17:59:33</td>\n",
       "      <td>2016-02-21 18:26:48</td>\n",
       "      <td>2</td>\n",
       "      <td>-73.997314</td>\n",
       "      <td>40.721458</td>\n",
       "      <td>-73.948029</td>\n",
       "      <td>40.774918</td>\n",
       "      <td>0</td>\n",
       "      <td>1635</td>\n",
       "    </tr>\n",
       "    <tr>\n",
       "      <th>3</th>\n",
       "      <td>2</td>\n",
       "      <td>2016-01-05 09:44:31</td>\n",
       "      <td>2016-01-05 10:03:32</td>\n",
       "      <td>6</td>\n",
       "      <td>-73.961670</td>\n",
       "      <td>40.759720</td>\n",
       "      <td>-73.956779</td>\n",
       "      <td>40.780628</td>\n",
       "      <td>0</td>\n",
       "      <td>1141</td>\n",
       "    </tr>\n",
       "    <tr>\n",
       "      <th>4</th>\n",
       "      <td>1</td>\n",
       "      <td>2016-02-17 06:42:23</td>\n",
       "      <td>2016-02-17 06:56:31</td>\n",
       "      <td>1</td>\n",
       "      <td>-74.017120</td>\n",
       "      <td>40.708469</td>\n",
       "      <td>-73.988182</td>\n",
       "      <td>40.740631</td>\n",
       "      <td>0</td>\n",
       "      <td>848</td>\n",
       "    </tr>\n",
       "  </tbody>\n",
       "</table>\n",
       "</div>"
      ],
      "text/plain": [
       "   vendor_id     pickup_datetime    dropoff_datetime  passenger_count  \\\n",
       "0          2 2016-02-29 16:40:21 2016-02-29 16:47:01                1   \n",
       "1          1 2016-03-11 23:35:37 2016-03-11 23:53:57                2   \n",
       "2          2 2016-02-21 17:59:33 2016-02-21 18:26:48                2   \n",
       "3          2 2016-01-05 09:44:31 2016-01-05 10:03:32                6   \n",
       "4          1 2016-02-17 06:42:23 2016-02-17 06:56:31                1   \n",
       "\n",
       "   pickup_longitude  pickup_latitude  dropoff_longitude  dropoff_latitude  \\\n",
       "0        -73.953918        40.778873         -73.963875         40.771164   \n",
       "1        -73.988312        40.731743         -73.994751         40.694931   \n",
       "2        -73.997314        40.721458         -73.948029         40.774918   \n",
       "3        -73.961670        40.759720         -73.956779         40.780628   \n",
       "4        -74.017120        40.708469         -73.988182         40.740631   \n",
       "\n",
       "   store_and_fwd_flag  trip_duration  \n",
       "0                   0            400  \n",
       "1                   0           1100  \n",
       "2                   0           1635  \n",
       "3                   0           1141  \n",
       "4                   0            848  "
      ]
     },
     "execution_count": 7,
     "metadata": {},
     "output_type": "execute_result"
    }
   ],
   "source": [
    "# converting strings to datetime features\n",
    "df['pickup_datetime'] = pd.to_datetime(df.pickup_datetime)\n",
    "df['dropoff_datetime'] = pd.to_datetime(df.dropoff_datetime)\n",
    "\n",
    "# Converting yes/no flag to 1 and 0\n",
    "df['store_and_fwd_flag'] = 1 * (df.store_and_fwd_flag.values == 'Y')\n",
    "#Dropping ID \n",
    "df.drop([\"id\"],axis=1,inplace=True)\n",
    "df.head()"
   ]
  },
  {
   "cell_type": "code",
   "execution_count": 8,
   "id": "c4397e04",
   "metadata": {},
   "outputs": [
    {
     "data": {
      "text/html": [
       "<div>\n",
       "<style scoped>\n",
       "    .dataframe tbody tr th:only-of-type {\n",
       "        vertical-align: middle;\n",
       "    }\n",
       "\n",
       "    .dataframe tbody tr th {\n",
       "        vertical-align: top;\n",
       "    }\n",
       "\n",
       "    .dataframe thead th {\n",
       "        text-align: right;\n",
       "    }\n",
       "</style>\n",
       "<table border=\"1\" class=\"dataframe\">\n",
       "  <thead>\n",
       "    <tr style=\"text-align: right;\">\n",
       "      <th></th>\n",
       "      <th>vendor_id</th>\n",
       "      <th>pickup_datetime</th>\n",
       "      <th>dropoff_datetime</th>\n",
       "      <th>passenger_count</th>\n",
       "      <th>pickup_longitude</th>\n",
       "      <th>pickup_latitude</th>\n",
       "      <th>dropoff_longitude</th>\n",
       "      <th>dropoff_latitude</th>\n",
       "      <th>store_and_fwd_flag</th>\n",
       "      <th>trip_duration</th>\n",
       "      <th>pickup_day_no</th>\n",
       "      <th>dropoff_day_no</th>\n",
       "      <th>pickup_hour</th>\n",
       "      <th>dropoff_hour</th>\n",
       "      <th>pickup_month</th>\n",
       "      <th>dropoff_month</th>\n",
       "    </tr>\n",
       "  </thead>\n",
       "  <tbody>\n",
       "    <tr>\n",
       "      <th>0</th>\n",
       "      <td>2</td>\n",
       "      <td>2016-02-29 16:40:21</td>\n",
       "      <td>2016-02-29 16:47:01</td>\n",
       "      <td>1</td>\n",
       "      <td>-73.953918</td>\n",
       "      <td>40.778873</td>\n",
       "      <td>-73.963875</td>\n",
       "      <td>40.771164</td>\n",
       "      <td>0</td>\n",
       "      <td>400</td>\n",
       "      <td>0</td>\n",
       "      <td>0</td>\n",
       "      <td>16</td>\n",
       "      <td>16</td>\n",
       "      <td>2</td>\n",
       "      <td>2</td>\n",
       "    </tr>\n",
       "    <tr>\n",
       "      <th>1</th>\n",
       "      <td>1</td>\n",
       "      <td>2016-03-11 23:35:37</td>\n",
       "      <td>2016-03-11 23:53:57</td>\n",
       "      <td>2</td>\n",
       "      <td>-73.988312</td>\n",
       "      <td>40.731743</td>\n",
       "      <td>-73.994751</td>\n",
       "      <td>40.694931</td>\n",
       "      <td>0</td>\n",
       "      <td>1100</td>\n",
       "      <td>4</td>\n",
       "      <td>4</td>\n",
       "      <td>23</td>\n",
       "      <td>23</td>\n",
       "      <td>3</td>\n",
       "      <td>3</td>\n",
       "    </tr>\n",
       "    <tr>\n",
       "      <th>2</th>\n",
       "      <td>2</td>\n",
       "      <td>2016-02-21 17:59:33</td>\n",
       "      <td>2016-02-21 18:26:48</td>\n",
       "      <td>2</td>\n",
       "      <td>-73.997314</td>\n",
       "      <td>40.721458</td>\n",
       "      <td>-73.948029</td>\n",
       "      <td>40.774918</td>\n",
       "      <td>0</td>\n",
       "      <td>1635</td>\n",
       "      <td>6</td>\n",
       "      <td>6</td>\n",
       "      <td>17</td>\n",
       "      <td>18</td>\n",
       "      <td>2</td>\n",
       "      <td>2</td>\n",
       "    </tr>\n",
       "    <tr>\n",
       "      <th>3</th>\n",
       "      <td>2</td>\n",
       "      <td>2016-01-05 09:44:31</td>\n",
       "      <td>2016-01-05 10:03:32</td>\n",
       "      <td>6</td>\n",
       "      <td>-73.961670</td>\n",
       "      <td>40.759720</td>\n",
       "      <td>-73.956779</td>\n",
       "      <td>40.780628</td>\n",
       "      <td>0</td>\n",
       "      <td>1141</td>\n",
       "      <td>1</td>\n",
       "      <td>1</td>\n",
       "      <td>9</td>\n",
       "      <td>10</td>\n",
       "      <td>1</td>\n",
       "      <td>1</td>\n",
       "    </tr>\n",
       "    <tr>\n",
       "      <th>4</th>\n",
       "      <td>1</td>\n",
       "      <td>2016-02-17 06:42:23</td>\n",
       "      <td>2016-02-17 06:56:31</td>\n",
       "      <td>1</td>\n",
       "      <td>-74.017120</td>\n",
       "      <td>40.708469</td>\n",
       "      <td>-73.988182</td>\n",
       "      <td>40.740631</td>\n",
       "      <td>0</td>\n",
       "      <td>848</td>\n",
       "      <td>2</td>\n",
       "      <td>2</td>\n",
       "      <td>6</td>\n",
       "      <td>6</td>\n",
       "      <td>2</td>\n",
       "      <td>2</td>\n",
       "    </tr>\n",
       "  </tbody>\n",
       "</table>\n",
       "</div>"
      ],
      "text/plain": [
       "   vendor_id     pickup_datetime    dropoff_datetime  passenger_count  \\\n",
       "0          2 2016-02-29 16:40:21 2016-02-29 16:47:01                1   \n",
       "1          1 2016-03-11 23:35:37 2016-03-11 23:53:57                2   \n",
       "2          2 2016-02-21 17:59:33 2016-02-21 18:26:48                2   \n",
       "3          2 2016-01-05 09:44:31 2016-01-05 10:03:32                6   \n",
       "4          1 2016-02-17 06:42:23 2016-02-17 06:56:31                1   \n",
       "\n",
       "   pickup_longitude  pickup_latitude  dropoff_longitude  dropoff_latitude  \\\n",
       "0        -73.953918        40.778873         -73.963875         40.771164   \n",
       "1        -73.988312        40.731743         -73.994751         40.694931   \n",
       "2        -73.997314        40.721458         -73.948029         40.774918   \n",
       "3        -73.961670        40.759720         -73.956779         40.780628   \n",
       "4        -74.017120        40.708469         -73.988182         40.740631   \n",
       "\n",
       "   store_and_fwd_flag  trip_duration  pickup_day_no  dropoff_day_no  \\\n",
       "0                   0            400              0               0   \n",
       "1                   0           1100              4               4   \n",
       "2                   0           1635              6               6   \n",
       "3                   0           1141              1               1   \n",
       "4                   0            848              2               2   \n",
       "\n",
       "   pickup_hour  dropoff_hour  pickup_month  dropoff_month  \n",
       "0           16            16             2              2  \n",
       "1           23            23             3              3  \n",
       "2           17            18             2              2  \n",
       "3            9            10             1              1  \n",
       "4            6             6             2              2  "
      ]
     },
     "execution_count": 8,
     "metadata": {},
     "output_type": "execute_result"
    }
   ],
   "source": [
    "#Creating new features \n",
    "\n",
    "#Weekday\n",
    "df['pickup_day_no']=df['pickup_datetime'].dt.weekday\n",
    "df['dropoff_day_no']=df['dropoff_datetime'].dt.weekday\n",
    "#Hour\n",
    "df['pickup_hour']=df['pickup_datetime'].dt.hour\n",
    "df['dropoff_hour']=df['dropoff_datetime'].dt.hour\n",
    "#Month\n",
    "df['pickup_month']=df['pickup_datetime'].dt.month\n",
    "df['dropoff_month']=df['dropoff_datetime'].dt.month\n",
    "df.head()"
   ]
  },
  {
   "cell_type": "code",
   "execution_count": 9,
   "id": "8faf1509",
   "metadata": {},
   "outputs": [],
   "source": [
    "#pip install geopy\n",
    "# using geopy library for gecoding coordinates latitute and longitude\n",
    "\n",
    "from geopy.distance import great_circle"
   ]
  },
  {
   "cell_type": "code",
   "execution_count": 10,
   "id": "74649922",
   "metadata": {},
   "outputs": [],
   "source": [
    "# creating a function to calculate distance based on coordinates\n",
    "\n",
    "def cal_distance(pickup_latitude,pickup_longitude,dropoff_latitude,dropoff_longitude):\n",
    " \n",
    " start_coordinates=(pickup_latitude,pickup_longitude)\n",
    " stop_coordinates=(dropoff_latitude,dropoff_longitude)\n",
    " \n",
    " return great_circle(start_coordinates,stop_coordinates).km"
   ]
  },
  {
   "cell_type": "code",
   "execution_count": 11,
   "id": "47d76231",
   "metadata": {},
   "outputs": [
    {
     "data": {
      "text/html": [
       "<div>\n",
       "<style scoped>\n",
       "    .dataframe tbody tr th:only-of-type {\n",
       "        vertical-align: middle;\n",
       "    }\n",
       "\n",
       "    .dataframe tbody tr th {\n",
       "        vertical-align: top;\n",
       "    }\n",
       "\n",
       "    .dataframe thead th {\n",
       "        text-align: right;\n",
       "    }\n",
       "</style>\n",
       "<table border=\"1\" class=\"dataframe\">\n",
       "  <thead>\n",
       "    <tr style=\"text-align: right;\">\n",
       "      <th></th>\n",
       "      <th>vendor_id</th>\n",
       "      <th>pickup_datetime</th>\n",
       "      <th>dropoff_datetime</th>\n",
       "      <th>passenger_count</th>\n",
       "      <th>pickup_longitude</th>\n",
       "      <th>pickup_latitude</th>\n",
       "      <th>dropoff_longitude</th>\n",
       "      <th>dropoff_latitude</th>\n",
       "      <th>store_and_fwd_flag</th>\n",
       "      <th>trip_duration</th>\n",
       "      <th>pickup_day_no</th>\n",
       "      <th>dropoff_day_no</th>\n",
       "      <th>pickup_hour</th>\n",
       "      <th>dropoff_hour</th>\n",
       "      <th>pickup_month</th>\n",
       "      <th>dropoff_month</th>\n",
       "      <th>distance</th>\n",
       "    </tr>\n",
       "  </thead>\n",
       "  <tbody>\n",
       "    <tr>\n",
       "      <th>0</th>\n",
       "      <td>2</td>\n",
       "      <td>2016-02-29 16:40:21</td>\n",
       "      <td>2016-02-29 16:47:01</td>\n",
       "      <td>1</td>\n",
       "      <td>-73.953918</td>\n",
       "      <td>40.778873</td>\n",
       "      <td>-73.963875</td>\n",
       "      <td>40.771164</td>\n",
       "      <td>0</td>\n",
       "      <td>400</td>\n",
       "      <td>0</td>\n",
       "      <td>0</td>\n",
       "      <td>16</td>\n",
       "      <td>16</td>\n",
       "      <td>2</td>\n",
       "      <td>2</td>\n",
       "      <td>1.199074</td>\n",
       "    </tr>\n",
       "    <tr>\n",
       "      <th>1</th>\n",
       "      <td>1</td>\n",
       "      <td>2016-03-11 23:35:37</td>\n",
       "      <td>2016-03-11 23:53:57</td>\n",
       "      <td>2</td>\n",
       "      <td>-73.988312</td>\n",
       "      <td>40.731743</td>\n",
       "      <td>-73.994751</td>\n",
       "      <td>40.694931</td>\n",
       "      <td>0</td>\n",
       "      <td>1100</td>\n",
       "      <td>4</td>\n",
       "      <td>4</td>\n",
       "      <td>23</td>\n",
       "      <td>23</td>\n",
       "      <td>3</td>\n",
       "      <td>3</td>\n",
       "      <td>4.129117</td>\n",
       "    </tr>\n",
       "    <tr>\n",
       "      <th>2</th>\n",
       "      <td>2</td>\n",
       "      <td>2016-02-21 17:59:33</td>\n",
       "      <td>2016-02-21 18:26:48</td>\n",
       "      <td>2</td>\n",
       "      <td>-73.997314</td>\n",
       "      <td>40.721458</td>\n",
       "      <td>-73.948029</td>\n",
       "      <td>40.774918</td>\n",
       "      <td>0</td>\n",
       "      <td>1635</td>\n",
       "      <td>6</td>\n",
       "      <td>6</td>\n",
       "      <td>17</td>\n",
       "      <td>18</td>\n",
       "      <td>2</td>\n",
       "      <td>2</td>\n",
       "      <td>7.250763</td>\n",
       "    </tr>\n",
       "    <tr>\n",
       "      <th>3</th>\n",
       "      <td>2</td>\n",
       "      <td>2016-01-05 09:44:31</td>\n",
       "      <td>2016-01-05 10:03:32</td>\n",
       "      <td>6</td>\n",
       "      <td>-73.961670</td>\n",
       "      <td>40.759720</td>\n",
       "      <td>-73.956779</td>\n",
       "      <td>40.780628</td>\n",
       "      <td>0</td>\n",
       "      <td>1141</td>\n",
       "      <td>1</td>\n",
       "      <td>1</td>\n",
       "      <td>9</td>\n",
       "      <td>10</td>\n",
       "      <td>1</td>\n",
       "      <td>1</td>\n",
       "      <td>2.361101</td>\n",
       "    </tr>\n",
       "    <tr>\n",
       "      <th>4</th>\n",
       "      <td>1</td>\n",
       "      <td>2016-02-17 06:42:23</td>\n",
       "      <td>2016-02-17 06:56:31</td>\n",
       "      <td>1</td>\n",
       "      <td>-74.017120</td>\n",
       "      <td>40.708469</td>\n",
       "      <td>-73.988182</td>\n",
       "      <td>40.740631</td>\n",
       "      <td>0</td>\n",
       "      <td>848</td>\n",
       "      <td>2</td>\n",
       "      <td>2</td>\n",
       "      <td>6</td>\n",
       "      <td>6</td>\n",
       "      <td>2</td>\n",
       "      <td>2</td>\n",
       "      <td>4.328540</td>\n",
       "    </tr>\n",
       "  </tbody>\n",
       "</table>\n",
       "</div>"
      ],
      "text/plain": [
       "   vendor_id     pickup_datetime    dropoff_datetime  passenger_count  \\\n",
       "0          2 2016-02-29 16:40:21 2016-02-29 16:47:01                1   \n",
       "1          1 2016-03-11 23:35:37 2016-03-11 23:53:57                2   \n",
       "2          2 2016-02-21 17:59:33 2016-02-21 18:26:48                2   \n",
       "3          2 2016-01-05 09:44:31 2016-01-05 10:03:32                6   \n",
       "4          1 2016-02-17 06:42:23 2016-02-17 06:56:31                1   \n",
       "\n",
       "   pickup_longitude  pickup_latitude  dropoff_longitude  dropoff_latitude  \\\n",
       "0        -73.953918        40.778873         -73.963875         40.771164   \n",
       "1        -73.988312        40.731743         -73.994751         40.694931   \n",
       "2        -73.997314        40.721458         -73.948029         40.774918   \n",
       "3        -73.961670        40.759720         -73.956779         40.780628   \n",
       "4        -74.017120        40.708469         -73.988182         40.740631   \n",
       "\n",
       "   store_and_fwd_flag  trip_duration  pickup_day_no  dropoff_day_no  \\\n",
       "0                   0            400              0               0   \n",
       "1                   0           1100              4               4   \n",
       "2                   0           1635              6               6   \n",
       "3                   0           1141              1               1   \n",
       "4                   0            848              2               2   \n",
       "\n",
       "   pickup_hour  dropoff_hour  pickup_month  dropoff_month  distance  \n",
       "0           16            16             2              2  1.199074  \n",
       "1           23            23             3              3  4.129117  \n",
       "2           17            18             2              2  7.250763  \n",
       "3            9            10             1              1  2.361101  \n",
       "4            6             6             2              2  4.328540  "
      ]
     },
     "execution_count": 11,
     "metadata": {},
     "output_type": "execute_result"
    }
   ],
   "source": [
    "# calling the function we created to calculate distance\n",
    "\n",
    "df['distance'] = df.apply(lambda x: cal_distance(x['pickup_latitude'],x['pickup_longitude'],x['dropoff_latitude'],x['dropoff_longitude'] ), axis=1)\n",
    "df.head()"
   ]
  },
  {
   "cell_type": "markdown",
   "id": "8b2aa1e3",
   "metadata": {},
   "source": [
    "### Outlier Treatment"
   ]
  },
  {
   "cell_type": "code",
   "execution_count": 12,
   "id": "985c0117",
   "metadata": {},
   "outputs": [
    {
     "data": {
      "image/png": "[encoded data removed]",
      "text/plain": [
       "<Figure size 432x288 with 1 Axes>"
      ]
     },
     "metadata": {
      "needs_background": "light"
     },
     "output_type": "display_data"
    }
   ],
   "source": [
    "df.boxplot(column='trip_duration') \n",
    "plt.show()"
   ]
  },
  {
   "cell_type": "code",
   "execution_count": 13,
   "id": "8ddc23af",
   "metadata": {},
   "outputs": [],
   "source": [
    "# defining upper and lower bounds for trip duration variable\n",
    "\n",
    "q1 = df['trip_duration'].quantile(0.25) #first quartile value\n",
    "q3 = df['trip_duration'].quantile(0.75) #third quartile value\n",
    "iqr = q3-q1 #Interquartile range\n",
    "low  = q1-1.5*iqr #acceptable range\n",
    "high = q3+1.5*iqr"
   ]
  },
  {
   "cell_type": "code",
   "execution_count": 14,
   "id": "66d7f07c",
   "metadata": {},
   "outputs": [],
   "source": [
    "# deciding data range for trip duration to keep or remove from analysis\n",
    "\n",
    "df_include = df.loc[(df['trip_duration'] >= low) & (df['trip_duration'] <= high)] #meeting the acceptable range\n",
    "df_exclude = df.loc[(df['trip_duration'] < low) | (df['trip_duration'] > high)] #not meeting the acceptable range"
   ]
  },
  {
   "cell_type": "code",
   "execution_count": 15,
   "id": "f3f2ca98",
   "metadata": {},
   "outputs": [
    {
     "name": "stdout",
     "output_type": "stream",
     "text": [
      "(692359, 17)\n",
      "(36963, 17)\n"
     ]
    }
   ],
   "source": [
    "# displaying dimensions of datasets\n",
    "\n",
    "print(df_include.shape)\n",
    "print(df_exclude.shape)"
   ]
  },
  {
   "cell_type": "code",
   "execution_count": 16,
   "id": "2fdb850f",
   "metadata": {},
   "outputs": [
    {
     "name": "stdout",
     "output_type": "stream",
     "text": [
      "732\n"
     ]
    }
   ],
   "source": [
    "trip_duration_mean=int(df_include.trip_duration.mean()) #finding the mean of the acceptable range\n",
    "print(trip_duration_mean)"
   ]
  },
  {
   "cell_type": "code",
   "execution_count": 17,
   "id": "141360b3",
   "metadata": {},
   "outputs": [
    {
     "name": "stderr",
     "output_type": "stream",
     "text": [
      "C:\\Users\\kriti\\anaconda3\\lib\\site-packages\\pandas\\core\\generic.py:5494: SettingWithCopyWarning: \n",
      "A value is trying to be set on a copy of a slice from a DataFrame.\n",
      "Try using .loc[row_indexer,col_indexer] = value instead\n",
      "\n",
      "See the caveats in the documentation: https://pandas.pydata.org/pandas-docs/stable/user_guide/indexing.html#returning-a-view-versus-a-copy\n",
      "  self[name] = value\n"
     ]
    }
   ],
   "source": [
    "df_exclude.trip_duration=trip_duration_mean"
   ]
  },
  {
   "cell_type": "code",
   "execution_count": 18,
   "id": "56be1852",
   "metadata": {},
   "outputs": [
    {
     "data": {
      "text/plain": [
       "(729322, 17)"
      ]
     },
     "execution_count": 18,
     "metadata": {},
     "output_type": "execute_result"
    }
   ],
   "source": [
    "df_new=pd.concat([df_include,df_exclude],axis=0) #concatenating both dfs to get the original shape\n",
    "df_new.shape"
   ]
  },
  {
   "cell_type": "code",
   "execution_count": 19,
   "id": "d15f1707",
   "metadata": {},
   "outputs": [
    {
     "data": {
      "text/plain": [
       "<AxesSubplot:>"
      ]
     },
     "execution_count": 19,
     "metadata": {},
     "output_type": "execute_result"
    },
    {
     "data": {
      "image/png": "[encoded data removed]",
      "text/plain": [
       "<Figure size 432x288 with 1 Axes>"
      ]
     },
     "metadata": {
      "needs_background": "light"
     },
     "output_type": "display_data"
    }
   ],
   "source": [
    "df_new.boxplot(column=\"trip_duration\")"
   ]
  },
  {
   "cell_type": "code",
   "execution_count": 20,
   "id": "6f74aded",
   "metadata": {},
   "outputs": [
    {
     "data": {
      "text/plain": [
       "vendor_id                      int64\n",
       "pickup_datetime       datetime64[ns]\n",
       "dropoff_datetime      datetime64[ns]\n",
       "passenger_count                int64\n",
       "pickup_longitude             float64\n",
       "pickup_latitude              float64\n",
       "dropoff_longitude            float64\n",
       "dropoff_latitude             float64\n",
       "store_and_fwd_flag             int32\n",
       "trip_duration                  int64\n",
       "pickup_day_no                  int64\n",
       "dropoff_day_no                 int64\n",
       "pickup_hour                    int64\n",
       "dropoff_hour                   int64\n",
       "pickup_month                   int64\n",
       "dropoff_month                  int64\n",
       "distance                     float64\n",
       "dtype: object"
      ]
     },
     "execution_count": 20,
     "metadata": {},
     "output_type": "execute_result"
    }
   ],
   "source": [
    "df_new.dtypes"
   ]
  },
  {
   "cell_type": "code",
   "execution_count": 21,
   "id": "d6c2ca84",
   "metadata": {},
   "outputs": [
    {
     "data": {
      "text/plain": [
       "Index(['vendor_id', 'pickup_datetime', 'dropoff_datetime', 'passenger_count',\n",
       "       'pickup_longitude', 'pickup_latitude', 'dropoff_longitude',\n",
       "       'dropoff_latitude', 'store_and_fwd_flag', 'trip_duration',\n",
       "       'pickup_day_no', 'dropoff_day_no', 'pickup_hour', 'dropoff_hour',\n",
       "       'pickup_month', 'dropoff_month', 'distance'],\n",
       "      dtype='object')"
      ]
     },
     "execution_count": 21,
     "metadata": {},
     "output_type": "execute_result"
    }
   ],
   "source": [
    "df_new.columns"
   ]
  },
  {
   "cell_type": "markdown",
   "id": "352d4cd4",
   "metadata": {},
   "source": [
    "#### Dropping non-required Variables"
   ]
  },
  {
   "cell_type": "code",
   "execution_count": 22,
   "id": "5736c08b",
   "metadata": {},
   "outputs": [
    {
     "data": {
      "text/html": [
       "<div>\n",
       "<style scoped>\n",
       "    .dataframe tbody tr th:only-of-type {\n",
       "        vertical-align: middle;\n",
       "    }\n",
       "\n",
       "    .dataframe tbody tr th {\n",
       "        vertical-align: top;\n",
       "    }\n",
       "\n",
       "    .dataframe thead th {\n",
       "        text-align: right;\n",
       "    }\n",
       "</style>\n",
       "<table border=\"1\" class=\"dataframe\">\n",
       "  <thead>\n",
       "    <tr style=\"text-align: right;\">\n",
       "      <th></th>\n",
       "      <th>vendor_id</th>\n",
       "      <th>passenger_count</th>\n",
       "      <th>store_and_fwd_flag</th>\n",
       "      <th>trip_duration</th>\n",
       "      <th>pickup_day_no</th>\n",
       "      <th>dropoff_day_no</th>\n",
       "      <th>pickup_hour</th>\n",
       "      <th>dropoff_hour</th>\n",
       "      <th>pickup_month</th>\n",
       "      <th>dropoff_month</th>\n",
       "      <th>distance</th>\n",
       "    </tr>\n",
       "  </thead>\n",
       "  <tbody>\n",
       "    <tr>\n",
       "      <th>0</th>\n",
       "      <td>2</td>\n",
       "      <td>1</td>\n",
       "      <td>0</td>\n",
       "      <td>400</td>\n",
       "      <td>0</td>\n",
       "      <td>0</td>\n",
       "      <td>16</td>\n",
       "      <td>16</td>\n",
       "      <td>2</td>\n",
       "      <td>2</td>\n",
       "      <td>1.199074</td>\n",
       "    </tr>\n",
       "    <tr>\n",
       "      <th>1</th>\n",
       "      <td>1</td>\n",
       "      <td>2</td>\n",
       "      <td>0</td>\n",
       "      <td>1100</td>\n",
       "      <td>4</td>\n",
       "      <td>4</td>\n",
       "      <td>23</td>\n",
       "      <td>23</td>\n",
       "      <td>3</td>\n",
       "      <td>3</td>\n",
       "      <td>4.129117</td>\n",
       "    </tr>\n",
       "    <tr>\n",
       "      <th>2</th>\n",
       "      <td>2</td>\n",
       "      <td>2</td>\n",
       "      <td>0</td>\n",
       "      <td>1635</td>\n",
       "      <td>6</td>\n",
       "      <td>6</td>\n",
       "      <td>17</td>\n",
       "      <td>18</td>\n",
       "      <td>2</td>\n",
       "      <td>2</td>\n",
       "      <td>7.250763</td>\n",
       "    </tr>\n",
       "    <tr>\n",
       "      <th>3</th>\n",
       "      <td>2</td>\n",
       "      <td>6</td>\n",
       "      <td>0</td>\n",
       "      <td>1141</td>\n",
       "      <td>1</td>\n",
       "      <td>1</td>\n",
       "      <td>9</td>\n",
       "      <td>10</td>\n",
       "      <td>1</td>\n",
       "      <td>1</td>\n",
       "      <td>2.361101</td>\n",
       "    </tr>\n",
       "    <tr>\n",
       "      <th>4</th>\n",
       "      <td>1</td>\n",
       "      <td>1</td>\n",
       "      <td>0</td>\n",
       "      <td>848</td>\n",
       "      <td>2</td>\n",
       "      <td>2</td>\n",
       "      <td>6</td>\n",
       "      <td>6</td>\n",
       "      <td>2</td>\n",
       "      <td>2</td>\n",
       "      <td>4.328540</td>\n",
       "    </tr>\n",
       "  </tbody>\n",
       "</table>\n",
       "</div>"
      ],
      "text/plain": [
       "   vendor_id  passenger_count  store_and_fwd_flag  trip_duration  \\\n",
       "0          2                1                   0            400   \n",
       "1          1                2                   0           1100   \n",
       "2          2                2                   0           1635   \n",
       "3          2                6                   0           1141   \n",
       "4          1                1                   0            848   \n",
       "\n",
       "   pickup_day_no  dropoff_day_no  pickup_hour  dropoff_hour  pickup_month  \\\n",
       "0              0               0           16            16             2   \n",
       "1              4               4           23            23             3   \n",
       "2              6               6           17            18             2   \n",
       "3              1               1            9            10             1   \n",
       "4              2               2            6             6             2   \n",
       "\n",
       "   dropoff_month  distance  \n",
       "0              2  1.199074  \n",
       "1              3  4.129117  \n",
       "2              2  7.250763  \n",
       "3              1  2.361101  \n",
       "4              2  4.328540  "
      ]
     },
     "execution_count": 22,
     "metadata": {},
     "output_type": "execute_result"
    }
   ],
   "source": [
    "# variables dropped to reduce generalisation error\n",
    "\n",
    "df_new.drop(['pickup_datetime', 'dropoff_datetime', 'pickup_longitude', 'pickup_latitude', 'dropoff_longitude',\n",
    "             'dropoff_latitude'],axis=1,inplace=True)\n",
    "df_new.head()"
   ]
  },
  {
   "cell_type": "code",
   "execution_count": 23,
   "id": "1d2f8745",
   "metadata": {},
   "outputs": [
    {
     "data": {
      "text/plain": [
       "Index(['vendor_id', 'passenger_count', 'store_and_fwd_flag', 'trip_duration',\n",
       "       'pickup_day_no', 'dropoff_day_no', 'pickup_hour', 'dropoff_hour',\n",
       "       'pickup_month', 'dropoff_month', 'distance'],\n",
       "      dtype='object')"
      ]
     },
     "execution_count": 23,
     "metadata": {},
     "output_type": "execute_result"
    }
   ],
   "source": [
    "df_new.columns"
   ]
  },
  {
   "cell_type": "markdown",
   "id": "e44c51d3",
   "metadata": {},
   "source": [
    "### Assumption of Linearity"
   ]
  },
  {
   "cell_type": "code",
   "execution_count": 25,
   "id": "75f7d215",
   "metadata": {},
   "outputs": [
    {
     "data": {
      "image/png": "[encoded data removed]",
      "text/plain": [
       "<Figure size 1800x180 with 10 Axes>"
      ]
     },
     "metadata": {
      "needs_background": "light"
     },
     "output_type": "display_data"
    }
   ],
   "source": [
    "# checking whether the relationship between the dependent variable Y and the independent variable(s) X is linear\n",
    "\n",
    "#plt.figure(figsize=(30,15))\n",
    "sns.pairplot(df_new,x_vars=['vendor_id', 'passenger_count', 'store_and_fwd_flag',\n",
    "                            'pickup_day_no', 'dropoff_day_no', 'pickup_hour', 'dropoff_hour',\n",
    "                            'pickup_month', 'dropoff_month', 'distance'],y_vars=\"trip_duration\",\n",
    "             kind='reg')\n",
    "plt.show()"
   ]
  },
  {
   "cell_type": "code",
   "execution_count": 26,
   "id": "46ac7816",
   "metadata": {},
   "outputs": [],
   "source": [
    "#create x and y \n",
    "X = df_new[['vendor_id', 'passenger_count', 'store_and_fwd_flag',\n",
    "                         'pickup_day_no', 'dropoff_day_no', 'pickup_hour', 'dropoff_hour',\n",
    "                         'pickup_month', 'dropoff_month', 'distance']]\n",
    "Y = df_new['trip_duration']"
   ]
  },
  {
   "cell_type": "markdown",
   "id": "c1f37d3f",
   "metadata": {},
   "source": [
    "### Assumaption of Normality"
   ]
  },
  {
   "cell_type": "code",
   "execution_count": 27,
   "id": "2c949f95",
   "metadata": {},
   "outputs": [
    {
     "name": "stderr",
     "output_type": "stream",
     "text": [
      "C:\\Users\\kriti\\anaconda3\\lib\\site-packages\\seaborn\\distributions.py:2557: FutureWarning: `distplot` is a deprecated function and will be removed in a future version. Please adapt your code to use either `displot` (a figure-level function with similar flexibility) or `histplot` (an axes-level function for histograms).\n",
      "  warnings.warn(msg, FutureWarning)\n"
     ]
    },
    {
     "data": {
      "text/plain": [
       "<AxesSubplot:xlabel='trip_duration', ylabel='Density'>"
      ]
     },
     "execution_count": 27,
     "metadata": {},
     "output_type": "execute_result"
    },
    {
     "data": {
      "image/png": "[encoded data removed]",
      "text/plain": [
       "<Figure size 432x288 with 1 Axes>"
      ]
     },
     "metadata": {
      "needs_background": "light"
     },
     "output_type": "display_data"
    }
   ],
   "source": [
    "# to check that for any fixed value of X (independent variable) Y (dependent variable) is normally distributed\n",
    "\n",
    "sns.distplot(Y,hist=True)"
   ]
  },
  {
   "cell_type": "code",
   "execution_count": 28,
   "id": "79a5c268",
   "metadata": {},
   "outputs": [
    {
     "data": {
      "text/plain": [
       "array([[<AxesSubplot:title={'center':'vendor_id'}>,\n",
       "        <AxesSubplot:title={'center':'passenger_count'}>,\n",
       "        <AxesSubplot:title={'center':'store_and_fwd_flag'}>],\n",
       "       [<AxesSubplot:title={'center':'pickup_day_no'}>,\n",
       "        <AxesSubplot:title={'center':'dropoff_day_no'}>,\n",
       "        <AxesSubplot:title={'center':'pickup_hour'}>],\n",
       "       [<AxesSubplot:title={'center':'dropoff_hour'}>,\n",
       "        <AxesSubplot:title={'center':'pickup_month'}>,\n",
       "        <AxesSubplot:title={'center':'dropoff_month'}>],\n",
       "       [<AxesSubplot:title={'center':'distance'}>, <AxesSubplot:>,\n",
       "        <AxesSubplot:>]], dtype=object)"
      ]
     },
     "execution_count": 28,
     "metadata": {},
     "output_type": "execute_result"
    },
    {
     "data": {
      "image/png": "[encoded data removed]",
      "text/plain": [
       "<Figure size 432x288 with 12 Axes>"
      ]
     },
     "metadata": {
      "needs_background": "light"
     },
     "output_type": "display_data"
    }
   ],
   "source": [
    "# generating histograms to view data distribution\n",
    "\n",
    "X.hist(bins=15)"
   ]
  },
  {
   "cell_type": "markdown",
   "id": "677cc508",
   "metadata": {},
   "source": [
    "### Assumption of Multicollinearity"
   ]
  },
  {
   "cell_type": "code",
   "execution_count": 29,
   "id": "1e75832b",
   "metadata": {},
   "outputs": [
    {
     "name": "stdout",
     "output_type": "stream",
     "text": [
      "                    vendor_id  passenger_count  store_and_fwd_flag  \\\n",
      "vendor_id            1.000000         0.286463           -0.080120   \n",
      "passenger_count      0.286463         1.000000           -0.020898   \n",
      "store_and_fwd_flag  -0.080120        -0.020898            1.000000   \n",
      "pickup_day_no        0.000787         0.025758           -0.001940   \n",
      "dropoff_day_no       0.000900         0.025941           -0.001748   \n",
      "pickup_hour          0.009772         0.009851            0.002036   \n",
      "dropoff_hour         0.009702         0.009214            0.002652   \n",
      "pickup_month        -0.005363        -0.001481            0.000238   \n",
      "dropoff_month       -0.005336        -0.001497            0.000244   \n",
      "distance             0.006510         0.009175            0.027948   \n",
      "\n",
      "                    pickup_day_no  dropoff_day_no  pickup_hour  dropoff_hour  \\\n",
      "vendor_id                0.000787        0.000900     0.009772      0.009702   \n",
      "passenger_count          0.025758        0.025941     0.009851      0.009214   \n",
      "store_and_fwd_flag      -0.001940       -0.001748     0.002036      0.002652   \n",
      "pickup_day_no            1.000000        0.993789    -0.082079     -0.085767   \n",
      "dropoff_day_no           0.993789        1.000000    -0.078777     -0.089876   \n",
      "pickup_hour             -0.082079       -0.078777     1.000000      0.934591   \n",
      "dropoff_hour            -0.085767       -0.089876     0.934591      1.000000   \n",
      "pickup_month            -0.013626       -0.013320    -0.003301     -0.004013   \n",
      "dropoff_month           -0.013604       -0.013268    -0.003043     -0.004386   \n",
      "distance                 0.007786        0.008227    -0.016269     -0.020934   \n",
      "\n",
      "                    pickup_month  dropoff_month  distance  \n",
      "vendor_id              -0.005363      -0.005336  0.006510  \n",
      "passenger_count        -0.001481      -0.001497  0.009175  \n",
      "store_and_fwd_flag      0.000238       0.000244  0.027948  \n",
      "pickup_day_no          -0.013626      -0.013604  0.007786  \n",
      "dropoff_day_no         -0.013320      -0.013268  0.008227  \n",
      "pickup_hour            -0.003301      -0.003043 -0.016269  \n",
      "dropoff_hour           -0.004013      -0.004386 -0.020934  \n",
      "pickup_month            1.000000       0.999937  0.016581  \n",
      "dropoff_month           0.999937       1.000000  0.016759  \n",
      "distance                0.016581       0.016759  1.000000  \n"
     ]
    },
    {
     "data": {
      "text/plain": [
       "<AxesSubplot:>"
      ]
     },
     "execution_count": 29,
     "metadata": {},
     "output_type": "execute_result"
    },
    {
     "data": {
      "image/png": "[encoded data removed]",
      "text/plain": [
       "<Figure size 432x288 with 2 Axes>"
      ]
     },
     "metadata": {
      "needs_background": "light"
     },
     "output_type": "display_data"
    }
   ],
   "source": [
    "# checking correlation of independent variables amongst each other\n",
    "\n",
    "corr_df=X.corr(method=\"pearson\")\n",
    "print(corr_df)\n",
    "\n",
    "sns.heatmap(corr_df,vmax=1.0,vmin=-1.0,annot=True)"
   ]
  },
  {
   "cell_type": "code",
   "execution_count": 30,
   "id": "5f14c4fe",
   "metadata": {},
   "outputs": [
    {
     "data": {
      "text/html": [
       "<div>\n",
       "<style scoped>\n",
       "    .dataframe tbody tr th:only-of-type {\n",
       "        vertical-align: middle;\n",
       "    }\n",
       "\n",
       "    .dataframe tbody tr th {\n",
       "        vertical-align: top;\n",
       "    }\n",
       "\n",
       "    .dataframe thead th {\n",
       "        text-align: right;\n",
       "    }\n",
       "</style>\n",
       "<table border=\"1\" class=\"dataframe\">\n",
       "  <thead>\n",
       "    <tr style=\"text-align: right;\">\n",
       "      <th></th>\n",
       "      <th>features</th>\n",
       "      <th>VIF Factor</th>\n",
       "    </tr>\n",
       "  </thead>\n",
       "  <tbody>\n",
       "    <tr>\n",
       "      <th>0</th>\n",
       "      <td>vendor_id</td>\n",
       "      <td>7.49</td>\n",
       "    </tr>\n",
       "    <tr>\n",
       "      <th>1</th>\n",
       "      <td>passenger_count</td>\n",
       "      <td>2.83</td>\n",
       "    </tr>\n",
       "    <tr>\n",
       "      <th>2</th>\n",
       "      <td>store_and_fwd_flag</td>\n",
       "      <td>1.01</td>\n",
       "    </tr>\n",
       "    <tr>\n",
       "      <th>3</th>\n",
       "      <td>pickup_day_no</td>\n",
       "      <td>286.74</td>\n",
       "    </tr>\n",
       "    <tr>\n",
       "      <th>4</th>\n",
       "      <td>dropoff_day_no</td>\n",
       "      <td>287.07</td>\n",
       "    </tr>\n",
       "    <tr>\n",
       "      <th>5</th>\n",
       "      <td>pickup_hour</td>\n",
       "      <td>45.77</td>\n",
       "    </tr>\n",
       "    <tr>\n",
       "      <th>6</th>\n",
       "      <td>dropoff_hour</td>\n",
       "      <td>44.98</td>\n",
       "    </tr>\n",
       "    <tr>\n",
       "      <th>7</th>\n",
       "      <td>pickup_month</td>\n",
       "      <td>44081.30</td>\n",
       "    </tr>\n",
       "    <tr>\n",
       "      <th>8</th>\n",
       "      <td>dropoff_month</td>\n",
       "      <td>44083.94</td>\n",
       "    </tr>\n",
       "    <tr>\n",
       "      <th>9</th>\n",
       "      <td>distance</td>\n",
       "      <td>1.59</td>\n",
       "    </tr>\n",
       "  </tbody>\n",
       "</table>\n",
       "</div>"
      ],
      "text/plain": [
       "             features  VIF Factor\n",
       "0           vendor_id        7.49\n",
       "1     passenger_count        2.83\n",
       "2  store_and_fwd_flag        1.01\n",
       "3       pickup_day_no      286.74\n",
       "4      dropoff_day_no      287.07\n",
       "5         pickup_hour       45.77\n",
       "6        dropoff_hour       44.98\n",
       "7        pickup_month    44081.30\n",
       "8       dropoff_month    44083.94\n",
       "9            distance        1.59"
      ]
     },
     "execution_count": 30,
     "metadata": {},
     "output_type": "execute_result"
    }
   ],
   "source": [
    "from statsmodels.stats.outliers_influence import variance_inflation_factor as vif\n",
    "\n",
    "vif_df = pd.DataFrame()\n",
    "vif_df[\"features\"] = X.columns\n",
    "vif_df[\"VIF Factor\"] = [vif(X.values, i) for i in range(X.shape[1])]\n",
    "vif_df.round(2)"
   ]
  },
  {
   "cell_type": "markdown",
   "id": "381707c3",
   "metadata": {},
   "source": [
    "VIF > 1 <= 5 indicates moderate correlation amongst 'independent' variables.\n",
    "VIF > 5 indicates high correlation amongst 'independent' variables.\n",
    "The higher the VIF, the higher the possibility that multicollinearity exists, \n",
    "and further research is required. When VIF is higher than 10, there is significant multicollinearity that needs to be corrected"
   ]
  },
  {
   "cell_type": "code",
   "execution_count": 31,
   "id": "2523d251",
   "metadata": {},
   "outputs": [
    {
     "data": {
      "text/plain": [
       "[0, 1, 2, 3, 4, 5, 6, 7, 8, 9]"
      ]
     },
     "execution_count": 31,
     "metadata": {},
     "output_type": "execute_result"
    }
   ],
   "source": [
    "list(range(X.shape[1])) "
   ]
  },
  {
   "cell_type": "code",
   "execution_count": 32,
   "id": "f82ccc2f",
   "metadata": {},
   "outputs": [],
   "source": [
    "from sklearn.model_selection import train_test_split \n",
    "#split the data into test and train\n",
    "X_train, X_test,Y_train,Y_test = train_test_split(X,Y,test_size=0.2,random_state=10)\n",
    "#division value is 75% n 25%"
   ]
  },
  {
   "cell_type": "code",
   "execution_count": 33,
   "id": "940b8b35",
   "metadata": {},
   "outputs": [
    {
     "name": "stdout",
     "output_type": "stream",
     "text": [
      "(583457, 10)\n",
      "(583457,)\n",
      "(145865, 10)\n",
      "(145865,)\n"
     ]
    }
   ],
   "source": [
    "# view dimensions of train and test dataframes\n",
    "\n",
    "print(X_train.shape)\n",
    "print(Y_train.shape)\n",
    "print(X_test.shape)\n",
    "print(Y_test.shape)"
   ]
  },
  {
   "cell_type": "code",
   "execution_count": 34,
   "id": "c9b3774d",
   "metadata": {},
   "outputs": [
    {
     "name": "stdout",
     "output_type": "stream",
     "text": [
      "532.356022737623\n",
      "[  0.45605569   2.50897997   1.16576879 -22.70235755  17.75864468\n",
      "   1.75274242   0.48294545 -46.11615111  54.41441757  43.63163615]\n"
     ]
    }
   ],
   "source": [
    "from sklearn.linear_model import LinearRegression\n",
    "#create a model object\n",
    "lm = LinearRegression()\n",
    "#train the model object\n",
    "lm.fit(X_train,Y_train)\n",
    "\n",
    "#print intercept and coefficient\n",
    "print(lm.intercept_)\n",
    "print(lm.coef_)"
   ]
  },
  {
   "cell_type": "code",
   "execution_count": 35,
   "id": "fe3880c3",
   "metadata": {},
   "outputs": [
    {
     "name": "stdout",
     "output_type": "stream",
     "text": [
      "[('vendor_id', 0.4560556859777006), ('passenger_count', 2.5089799696464663), ('store_and_fwd_flag', 1.1657687889874677), ('pickup_day_no', -22.70235754926296), ('dropoff_day_no', 17.758644683917495), ('pickup_hour', 1.7527424178241444), ('dropoff_hour', 0.482945449529847), ('pickup_month', -46.11615111079873), ('dropoff_month', 54.41441757074285), ('distance', 43.63163614618766)]\n"
     ]
    }
   ],
   "source": [
    "#pair the feature names with the coefficients\n",
    "print(list(zip(X.columns,lm.coef_)))"
   ]
  },
  {
   "cell_type": "code",
   "execution_count": 37,
   "id": "d1f596bd",
   "metadata": {},
   "outputs": [
    {
     "name": "stdout",
     "output_type": "stream",
     "text": [
      "[671.34329925 649.26873128 677.41306099 ... 584.18485911 840.74363116\n",
      " 653.35083486]\n"
     ]
    }
   ],
   "source": [
    "#predict using the model\n",
    "Y_pred=lm.predict(X_test)\n",
    "print(Y_pred)"
   ]
  },
  {
   "cell_type": "code",
   "execution_count": 38,
   "id": "d977f68f",
   "metadata": {},
   "outputs": [
    {
     "data": {
      "text/plain": [
       "0.19539993420752588"
      ]
     },
     "execution_count": 38,
     "metadata": {},
     "output_type": "execute_result"
    }
   ],
   "source": [
    "# scoring the linear model\n",
    "\n",
    "lm.score(X_train,Y_train)"
   ]
  },
  {
   "cell_type": "markdown",
   "id": "f4bc83a9",
   "metadata": {},
   "source": [
    "0.19 indicates that the model has the predictive power to only explain 20% of the variation in the response variable"
   ]
  },
  {
   "cell_type": "code",
   "execution_count": 39,
   "id": "6b175059",
   "metadata": {
    "scrolled": false
   },
   "outputs": [
    {
     "name": "stderr",
     "output_type": "stream",
     "text": [
      "<ipython-input-39-eb02808ba797>:4: SettingWithCopyWarning: \n",
      "A value is trying to be set on a copy of a slice from a DataFrame.\n",
      "Try using .loc[row_indexer,col_indexer] = value instead\n",
      "\n",
      "See the caveats in the documentation: https://pandas.pydata.org/pandas-docs/stable/user_guide/indexing.html#returning-a-view-versus-a-copy\n",
      "  new_df[\"Actual trip_duration\"]=Y_test\n",
      "<ipython-input-39-eb02808ba797>:5: SettingWithCopyWarning: \n",
      "A value is trying to be set on a copy of a slice from a DataFrame.\n",
      "Try using .loc[row_indexer,col_indexer] = value instead\n",
      "\n",
      "See the caveats in the documentation: https://pandas.pydata.org/pandas-docs/stable/user_guide/indexing.html#returning-a-view-versus-a-copy\n",
      "  new_df[\"Predicted trip_duration\"]=Y_pred\n"
     ]
    },
    {
     "data": {
      "text/html": [
       "<div>\n",
       "<style scoped>\n",
       "    .dataframe tbody tr th:only-of-type {\n",
       "        vertical-align: middle;\n",
       "    }\n",
       "\n",
       "    .dataframe tbody tr th {\n",
       "        vertical-align: top;\n",
       "    }\n",
       "\n",
       "    .dataframe thead th {\n",
       "        text-align: right;\n",
       "    }\n",
       "</style>\n",
       "<table border=\"1\" class=\"dataframe\">\n",
       "  <thead>\n",
       "    <tr style=\"text-align: right;\">\n",
       "      <th></th>\n",
       "      <th>vendor_id</th>\n",
       "      <th>passenger_count</th>\n",
       "      <th>store_and_fwd_flag</th>\n",
       "      <th>pickup_day_no</th>\n",
       "      <th>dropoff_day_no</th>\n",
       "      <th>pickup_hour</th>\n",
       "      <th>dropoff_hour</th>\n",
       "      <th>pickup_month</th>\n",
       "      <th>dropoff_month</th>\n",
       "      <th>distance</th>\n",
       "      <th>Actual trip_duration</th>\n",
       "      <th>Predicted trip_duration</th>\n",
       "    </tr>\n",
       "  </thead>\n",
       "  <tbody>\n",
       "    <tr>\n",
       "      <th>201154</th>\n",
       "      <td>1</td>\n",
       "      <td>1</td>\n",
       "      <td>0</td>\n",
       "      <td>0</td>\n",
       "      <td>0</td>\n",
       "      <td>13</td>\n",
       "      <td>13</td>\n",
       "      <td>1</td>\n",
       "      <td>1</td>\n",
       "      <td>2.261204</td>\n",
       "      <td>561</td>\n",
       "      <td>671.343299</td>\n",
       "    </tr>\n",
       "    <tr>\n",
       "      <th>661992</th>\n",
       "      <td>1</td>\n",
       "      <td>1</td>\n",
       "      <td>0</td>\n",
       "      <td>0</td>\n",
       "      <td>0</td>\n",
       "      <td>8</td>\n",
       "      <td>8</td>\n",
       "      <td>4</td>\n",
       "      <td>4</td>\n",
       "      <td>1.440906</td>\n",
       "      <td>479</td>\n",
       "      <td>649.268731</td>\n",
       "    </tr>\n",
       "    <tr>\n",
       "      <th>351528</th>\n",
       "      <td>2</td>\n",
       "      <td>1</td>\n",
       "      <td>0</td>\n",
       "      <td>2</td>\n",
       "      <td>2</td>\n",
       "      <td>19</td>\n",
       "      <td>19</td>\n",
       "      <td>3</td>\n",
       "      <td>3</td>\n",
       "      <td>1.928658</td>\n",
       "      <td>451</td>\n",
       "      <td>677.413061</td>\n",
       "    </tr>\n",
       "    <tr>\n",
       "      <th>353450</th>\n",
       "      <td>2</td>\n",
       "      <td>1</td>\n",
       "      <td>0</td>\n",
       "      <td>1</td>\n",
       "      <td>1</td>\n",
       "      <td>21</td>\n",
       "      <td>21</td>\n",
       "      <td>4</td>\n",
       "      <td>4</td>\n",
       "      <td>0.586390</td>\n",
       "      <td>177</td>\n",
       "      <td>636.561051</td>\n",
       "    </tr>\n",
       "    <tr>\n",
       "      <th>177174</th>\n",
       "      <td>1</td>\n",
       "      <td>1</td>\n",
       "      <td>0</td>\n",
       "      <td>4</td>\n",
       "      <td>4</td>\n",
       "      <td>16</td>\n",
       "      <td>17</td>\n",
       "      <td>1</td>\n",
       "      <td>1</td>\n",
       "      <td>9.626767</td>\n",
       "      <td>732</td>\n",
       "      <td>980.130000</td>\n",
       "    </tr>\n",
       "    <tr>\n",
       "      <th>...</th>\n",
       "      <td>...</td>\n",
       "      <td>...</td>\n",
       "      <td>...</td>\n",
       "      <td>...</td>\n",
       "      <td>...</td>\n",
       "      <td>...</td>\n",
       "      <td>...</td>\n",
       "      <td>...</td>\n",
       "      <td>...</td>\n",
       "      <td>...</td>\n",
       "      <td>...</td>\n",
       "      <td>...</td>\n",
       "    </tr>\n",
       "    <tr>\n",
       "      <th>466451</th>\n",
       "      <td>1</td>\n",
       "      <td>1</td>\n",
       "      <td>0</td>\n",
       "      <td>5</td>\n",
       "      <td>5</td>\n",
       "      <td>21</td>\n",
       "      <td>21</td>\n",
       "      <td>2</td>\n",
       "      <td>2</td>\n",
       "      <td>0.893969</td>\n",
       "      <td>208</td>\n",
       "      <td>613.153803</td>\n",
       "    </tr>\n",
       "    <tr>\n",
       "      <th>382607</th>\n",
       "      <td>2</td>\n",
       "      <td>1</td>\n",
       "      <td>0</td>\n",
       "      <td>0</td>\n",
       "      <td>0</td>\n",
       "      <td>13</td>\n",
       "      <td>13</td>\n",
       "      <td>5</td>\n",
       "      <td>5</td>\n",
       "      <td>0.686335</td>\n",
       "      <td>157</td>\n",
       "      <td>636.278289</td>\n",
       "    </tr>\n",
       "    <tr>\n",
       "      <th>419583</th>\n",
       "      <td>2</td>\n",
       "      <td>2</td>\n",
       "      <td>0</td>\n",
       "      <td>3</td>\n",
       "      <td>3</td>\n",
       "      <td>8</td>\n",
       "      <td>8</td>\n",
       "      <td>1</td>\n",
       "      <td>1</td>\n",
       "      <td>0.791768</td>\n",
       "      <td>284</td>\n",
       "      <td>584.184859</td>\n",
       "    </tr>\n",
       "    <tr>\n",
       "      <th>253301</th>\n",
       "      <td>2</td>\n",
       "      <td>1</td>\n",
       "      <td>0</td>\n",
       "      <td>5</td>\n",
       "      <td>5</td>\n",
       "      <td>4</td>\n",
       "      <td>4</td>\n",
       "      <td>4</td>\n",
       "      <td>4</td>\n",
       "      <td>6.590385</td>\n",
       "      <td>1060</td>\n",
       "      <td>840.743631</td>\n",
       "    </tr>\n",
       "    <tr>\n",
       "      <th>626100</th>\n",
       "      <td>2</td>\n",
       "      <td>1</td>\n",
       "      <td>0</td>\n",
       "      <td>3</td>\n",
       "      <td>3</td>\n",
       "      <td>16</td>\n",
       "      <td>16</td>\n",
       "      <td>4</td>\n",
       "      <td>4</td>\n",
       "      <td>1.454009</td>\n",
       "      <td>264</td>\n",
       "      <td>653.350835</td>\n",
       "    </tr>\n",
       "  </tbody>\n",
       "</table>\n",
       "<p>145865 rows × 12 columns</p>\n",
       "</div>"
      ],
      "text/plain": [
       "        vendor_id  passenger_count  store_and_fwd_flag  pickup_day_no  \\\n",
       "201154          1                1                   0              0   \n",
       "661992          1                1                   0              0   \n",
       "351528          2                1                   0              2   \n",
       "353450          2                1                   0              1   \n",
       "177174          1                1                   0              4   \n",
       "...           ...              ...                 ...            ...   \n",
       "466451          1                1                   0              5   \n",
       "382607          2                1                   0              0   \n",
       "419583          2                2                   0              3   \n",
       "253301          2                1                   0              5   \n",
       "626100          2                1                   0              3   \n",
       "\n",
       "        dropoff_day_no  pickup_hour  dropoff_hour  pickup_month  \\\n",
       "201154               0           13            13             1   \n",
       "661992               0            8             8             4   \n",
       "351528               2           19            19             3   \n",
       "353450               1           21            21             4   \n",
       "177174               4           16            17             1   \n",
       "...                ...          ...           ...           ...   \n",
       "466451               5           21            21             2   \n",
       "382607               0           13            13             5   \n",
       "419583               3            8             8             1   \n",
       "253301               5            4             4             4   \n",
       "626100               3           16            16             4   \n",
       "\n",
       "        dropoff_month  distance  Actual trip_duration  Predicted trip_duration  \n",
       "201154              1  2.261204                   561               671.343299  \n",
       "661992              4  1.440906                   479               649.268731  \n",
       "351528              3  1.928658                   451               677.413061  \n",
       "353450              4  0.586390                   177               636.561051  \n",
       "177174              1  9.626767                   732               980.130000  \n",
       "...               ...       ...                   ...                      ...  \n",
       "466451              2  0.893969                   208               613.153803  \n",
       "382607              5  0.686335                   157               636.278289  \n",
       "419583              1  0.791768                   284               584.184859  \n",
       "253301              4  6.590385                  1060               840.743631  \n",
       "626100              4  1.454009                   264               653.350835  \n",
       "\n",
       "[145865 rows x 12 columns]"
      ]
     },
     "execution_count": 39,
     "metadata": {},
     "output_type": "execute_result"
    }
   ],
   "source": [
    "new_df=pd.DataFrame()\n",
    "new_df=X_test\n",
    "\n",
    "new_df[\"Actual trip_duration\"]=Y_test\n",
    "new_df[\"Predicted trip_duration\"]=Y_pred\n",
    "new_df"
   ]
  },
  {
   "cell_type": "code",
   "execution_count": 40,
   "id": "bf02db86",
   "metadata": {},
   "outputs": [
    {
     "name": "stdout",
     "output_type": "stream",
     "text": [
      "1\n",
      "2092\n"
     ]
    }
   ],
   "source": [
    "print(Y_test.min())\n",
    "print(Y_test.max())"
   ]
  },
  {
   "cell_type": "code",
   "execution_count": 41,
   "id": "ff2051c9",
   "metadata": {},
   "outputs": [
    {
     "name": "stderr",
     "output_type": "stream",
     "text": [
      "<ipython-input-41-e5f0cbc6936a>:1: SettingWithCopyWarning: \n",
      "A value is trying to be set on a copy of a slice from a DataFrame.\n",
      "Try using .loc[row_indexer,col_indexer] = value instead\n",
      "\n",
      "See the caveats in the documentation: https://pandas.pydata.org/pandas-docs/stable/user_guide/indexing.html#returning-a-view-versus-a-copy\n",
      "  new_df[\"Deviation\"]=new_df[\"Actual trip_duration\"]-new_df[\"Predicted trip_duration\"]\n"
     ]
    },
    {
     "data": {
      "text/html": [
       "<div>\n",
       "<style scoped>\n",
       "    .dataframe tbody tr th:only-of-type {\n",
       "        vertical-align: middle;\n",
       "    }\n",
       "\n",
       "    .dataframe tbody tr th {\n",
       "        vertical-align: top;\n",
       "    }\n",
       "\n",
       "    .dataframe thead th {\n",
       "        text-align: right;\n",
       "    }\n",
       "</style>\n",
       "<table border=\"1\" class=\"dataframe\">\n",
       "  <thead>\n",
       "    <tr style=\"text-align: right;\">\n",
       "      <th></th>\n",
       "      <th>vendor_id</th>\n",
       "      <th>passenger_count</th>\n",
       "      <th>store_and_fwd_flag</th>\n",
       "      <th>pickup_day_no</th>\n",
       "      <th>dropoff_day_no</th>\n",
       "      <th>pickup_hour</th>\n",
       "      <th>dropoff_hour</th>\n",
       "      <th>pickup_month</th>\n",
       "      <th>dropoff_month</th>\n",
       "      <th>distance</th>\n",
       "      <th>Actual trip_duration</th>\n",
       "      <th>Predicted trip_duration</th>\n",
       "      <th>Deviation</th>\n",
       "    </tr>\n",
       "  </thead>\n",
       "  <tbody>\n",
       "    <tr>\n",
       "      <th>201154</th>\n",
       "      <td>1</td>\n",
       "      <td>1</td>\n",
       "      <td>0</td>\n",
       "      <td>0</td>\n",
       "      <td>0</td>\n",
       "      <td>13</td>\n",
       "      <td>13</td>\n",
       "      <td>1</td>\n",
       "      <td>1</td>\n",
       "      <td>2.261204</td>\n",
       "      <td>561</td>\n",
       "      <td>671.343299</td>\n",
       "      <td>-110.343299</td>\n",
       "    </tr>\n",
       "    <tr>\n",
       "      <th>661992</th>\n",
       "      <td>1</td>\n",
       "      <td>1</td>\n",
       "      <td>0</td>\n",
       "      <td>0</td>\n",
       "      <td>0</td>\n",
       "      <td>8</td>\n",
       "      <td>8</td>\n",
       "      <td>4</td>\n",
       "      <td>4</td>\n",
       "      <td>1.440906</td>\n",
       "      <td>479</td>\n",
       "      <td>649.268731</td>\n",
       "      <td>-170.268731</td>\n",
       "    </tr>\n",
       "    <tr>\n",
       "      <th>351528</th>\n",
       "      <td>2</td>\n",
       "      <td>1</td>\n",
       "      <td>0</td>\n",
       "      <td>2</td>\n",
       "      <td>2</td>\n",
       "      <td>19</td>\n",
       "      <td>19</td>\n",
       "      <td>3</td>\n",
       "      <td>3</td>\n",
       "      <td>1.928658</td>\n",
       "      <td>451</td>\n",
       "      <td>677.413061</td>\n",
       "      <td>-226.413061</td>\n",
       "    </tr>\n",
       "    <tr>\n",
       "      <th>353450</th>\n",
       "      <td>2</td>\n",
       "      <td>1</td>\n",
       "      <td>0</td>\n",
       "      <td>1</td>\n",
       "      <td>1</td>\n",
       "      <td>21</td>\n",
       "      <td>21</td>\n",
       "      <td>4</td>\n",
       "      <td>4</td>\n",
       "      <td>0.586390</td>\n",
       "      <td>177</td>\n",
       "      <td>636.561051</td>\n",
       "      <td>-459.561051</td>\n",
       "    </tr>\n",
       "    <tr>\n",
       "      <th>177174</th>\n",
       "      <td>1</td>\n",
       "      <td>1</td>\n",
       "      <td>0</td>\n",
       "      <td>4</td>\n",
       "      <td>4</td>\n",
       "      <td>16</td>\n",
       "      <td>17</td>\n",
       "      <td>1</td>\n",
       "      <td>1</td>\n",
       "      <td>9.626767</td>\n",
       "      <td>732</td>\n",
       "      <td>980.130000</td>\n",
       "      <td>-248.130000</td>\n",
       "    </tr>\n",
       "  </tbody>\n",
       "</table>\n",
       "</div>"
      ],
      "text/plain": [
       "        vendor_id  passenger_count  store_and_fwd_flag  pickup_day_no  \\\n",
       "201154          1                1                   0              0   \n",
       "661992          1                1                   0              0   \n",
       "351528          2                1                   0              2   \n",
       "353450          2                1                   0              1   \n",
       "177174          1                1                   0              4   \n",
       "\n",
       "        dropoff_day_no  pickup_hour  dropoff_hour  pickup_month  \\\n",
       "201154               0           13            13             1   \n",
       "661992               0            8             8             4   \n",
       "351528               2           19            19             3   \n",
       "353450               1           21            21             4   \n",
       "177174               4           16            17             1   \n",
       "\n",
       "        dropoff_month  distance  Actual trip_duration  \\\n",
       "201154              1  2.261204                   561   \n",
       "661992              4  1.440906                   479   \n",
       "351528              3  1.928658                   451   \n",
       "353450              4  0.586390                   177   \n",
       "177174              1  9.626767                   732   \n",
       "\n",
       "        Predicted trip_duration   Deviation  \n",
       "201154               671.343299 -110.343299  \n",
       "661992               649.268731 -170.268731  \n",
       "351528               677.413061 -226.413061  \n",
       "353450               636.561051 -459.561051  \n",
       "177174               980.130000 -248.130000  "
      ]
     },
     "execution_count": 41,
     "metadata": {},
     "output_type": "execute_result"
    }
   ],
   "source": [
    "new_df[\"Deviation\"]=new_df[\"Actual trip_duration\"]-new_df[\"Predicted trip_duration\"]\n",
    "new_df.to_excel(\"trip_duration Predictions.xlsx\",header=True,index=True)\n",
    "new_df.head()"
   ]
  },
  {
   "cell_type": "code",
   "execution_count": 42,
   "id": "fc647a75",
   "metadata": {},
   "outputs": [],
   "source": [
    "from sklearn.model_selection import train_test_split\n",
    "\n",
    "# Split the data into test and train in an 80:20 ratio\n",
    "X_train, X_test, Y_train, Y_test = train_test_split(X, Y, test_size=0.2,\n",
    "                                                    random_state=10)"
   ]
  },
  {
   "cell_type": "markdown",
   "id": "375de0b6",
   "metadata": {},
   "source": [
    "### Regularization"
   ]
  },
  {
   "cell_type": "code",
   "execution_count": 43,
   "id": "5e207483",
   "metadata": {},
   "outputs": [
    {
     "name": "stdout",
     "output_type": "stream",
     "text": [
      "532.3559252455291\n",
      "[  0.45610094   2.50895879   1.16540102 -22.70066461  17.75695277\n",
      "   1.75339786   0.48229067 -45.6084446   53.90675083  43.63166281]\n"
     ]
    }
   ],
   "source": [
    "from sklearn.linear_model import Ridge\n",
    "lm = Ridge()\n",
    "lm.fit(X_train,Y_train)\n",
    "\n",
    "# print intercept and coefficients\n",
    "print (lm.intercept_)\n",
    "print (lm.coef_)"
   ]
  },
  {
   "cell_type": "code",
   "execution_count": 44,
   "id": "643e35ec",
   "metadata": {},
   "outputs": [],
   "source": [
    "Y_pred=lm.predict(X_test)"
   ]
  },
  {
   "cell_type": "code",
   "execution_count": 45,
   "id": "211221e2",
   "metadata": {},
   "outputs": [
    {
     "name": "stdout",
     "output_type": "stream",
     "text": [
      "535.131913769565\n",
      "[ 0.          1.97313111  0.         -4.77639261 -0.          2.09398352\n",
      "  0.12263156  1.93789451  6.02129762 43.58645624]\n"
     ]
    }
   ],
   "source": [
    "from sklearn.linear_model import Lasso\n",
    "lm = Lasso()\n",
    "lm.fit(X_train,Y_train)\n",
    "\n",
    "# print intercept and coefficients\n",
    "print (lm.intercept_)\n",
    "print (lm.coef_)"
   ]
  },
  {
   "cell_type": "code",
   "execution_count": 46,
   "id": "b0d3c256",
   "metadata": {},
   "outputs": [
    {
     "name": "stderr",
     "output_type": "stream",
     "text": [
      "<ipython-input-46-b03b380a67fc>:4: SettingWithCopyWarning: \n",
      "A value is trying to be set on a copy of a slice from a DataFrame.\n",
      "Try using .loc[row_indexer,col_indexer] = value instead\n",
      "\n",
      "See the caveats in the documentation: https://pandas.pydata.org/pandas-docs/stable/user_guide/indexing.html#returning-a-view-versus-a-copy\n",
      "  new_df[\"trip_duration\"]=Y_train\n"
     ]
    },
    {
     "data": {
      "text/plain": [
       "(583457, 11)"
      ]
     },
     "execution_count": 46,
     "metadata": {},
     "output_type": "execute_result"
    }
   ],
   "source": [
    "new_df=pd.DataFrame()\n",
    "new_df=X_train\n",
    "\n",
    "new_df[\"trip_duration\"]=Y_train\n",
    "new_df.shape"
   ]
  },
  {
   "cell_type": "markdown",
   "id": "e888740d",
   "metadata": {},
   "source": [
    "### Implementing Linear Regression"
   ]
  },
  {
   "cell_type": "code",
   "execution_count": 48,
   "id": "135e0a71",
   "metadata": {
    "scrolled": false
   },
   "outputs": [
    {
     "name": "stdout",
     "output_type": "stream",
     "text": [
      "Intercept             532.356023\n",
      "vendor_id               0.456056\n",
      "passenger_count         2.508980\n",
      "store_and_fwd_flag      1.165769\n",
      "pickup_day_no         -22.702358\n",
      "dropoff_day_no         17.758645\n",
      "pickup_hour             1.752742\n",
      "dropoff_hour            0.482945\n",
      "pickup_month          -46.116151\n",
      "dropoff_month          54.414418\n",
      "distance               43.631636\n",
      "dtype: float64\n",
      "                            OLS Regression Results                            \n",
      "==============================================================================\n",
      "Dep. Variable:          trip_duration   R-squared:                       0.195\n",
      "Model:                            OLS   Adj. R-squared:                  0.195\n",
      "Method:                 Least Squares   F-statistic:                 1.417e+04\n",
      "Date:                Fri, 27 Jan 2023   Prob (F-statistic):               0.00\n",
      "Time:                        23:56:37   Log-Likelihood:            -4.3112e+06\n",
      "No. Observations:              583457   AIC:                         8.623e+06\n",
      "Df Residuals:                  583446   BIC:                         8.623e+06\n",
      "Df Model:                          10                                         \n",
      "Covariance Type:            nonrobust                                         \n",
      "======================================================================================\n",
      "                         coef    std err          t      P>|t|      [0.025      0.975]\n",
      "--------------------------------------------------------------------------------------\n",
      "Intercept            532.3560      2.478    214.868      0.000     527.500     537.212\n",
      "vendor_id              0.4561      1.076      0.424      0.672      -1.653       2.565\n",
      "passenger_count        2.5090      0.408      6.149      0.000       1.709       3.309\n",
      "store_and_fwd_flag     1.1658      6.954      0.168      0.867     -12.463      14.795\n",
      "pickup_day_no        -22.7024      2.377     -9.551      0.000     -27.361     -18.044\n",
      "dropoff_day_no        17.7586      2.375      7.477      0.000      13.103      22.414\n",
      "pickup_hour            1.7527      0.232      7.564      0.000       1.299       2.207\n",
      "dropoff_hour           0.4829      0.229      2.109      0.035       0.034       0.932\n",
      "pickup_month         -46.1162     27.969     -1.649      0.099    -100.935       8.703\n",
      "dropoff_month         54.4144     27.967      1.946      0.052      -0.400     109.229\n",
      "distance              43.6316      0.117    373.307      0.000      43.403      43.861\n",
      "==============================================================================\n",
      "Omnibus:                   669413.645   Durbin-Watson:                   2.001\n",
      "Prob(Omnibus):                  0.000   Jarque-Bera (JB):      10357848742.517\n",
      "Skew:                          -4.454   Prob(JB):                         0.00\n",
      "Kurtosis:                     655.673   Cond. No.                     1.73e+03\n",
      "==============================================================================\n",
      "\n",
      "Notes:\n",
      "[1] Standard Errors assume that the covariance matrix of the errors is correctly specified.\n",
      "[2] The condition number is large, 1.73e+03. This might indicate that there are\n",
      "strong multicollinearity or other numerical problems.\n"
     ]
    }
   ],
   "source": [
    "import statsmodels.formula.api as sm\n",
    "\n",
    "# create a fitted model with all features\n",
    "lm_model = sm.ols(formula='trip_duration ~ vendor_id + passenger_count + store_and_fwd_flag + pickup_day_no + dropoff_day_no + pickup_hour + dropoff_hour + pickup_month + dropoff_month + distance', \n",
    "                           data=new_df).fit()\n",
    "\n",
    "# print the coefficients\n",
    "print(lm_model.params)\n",
    "print(lm_model.summary())"
   ]
  },
  {
   "cell_type": "markdown",
   "id": "29b5a745",
   "metadata": {},
   "source": [
    "### Evaluating the Model"
   ]
  },
  {
   "cell_type": "code",
   "execution_count": 49,
   "id": "05145442",
   "metadata": {},
   "outputs": [
    {
     "name": "stdout",
     "output_type": "stream",
     "text": [
      "R-squared: 0.21631708418651752\n",
      "RMSE: 387.2394266209125\n",
      "Adj R-square: 0.21630633866210047\n"
     ]
    }
   ],
   "source": [
    "Y_pred_new=lm_model.predict(X_test)\n",
    "\n",
    "from sklearn.metrics import r2_score,mean_squared_error\n",
    "\n",
    "r2=r2_score(Y_test,Y_pred_new)\n",
    "print(\"R-squared:\",r2)\n",
    "\n",
    "rmse=np.sqrt(mean_squared_error(Y_test,Y_pred_new))\n",
    "print(\"RMSE:\",rmse)\n",
    "\n",
    "adjusted_r_squared = 1 - (1-r2)*(len(Y)-1)/(len(Y)-X.shape[1]-1)\n",
    "print(\"Adj R-square:\",adjusted_r_squared)"
   ]
  },
  {
   "cell_type": "code",
   "execution_count": 50,
   "id": "2b244d71",
   "metadata": {},
   "outputs": [
    {
     "data": {
      "text/plain": [
       "Index(['vendor_id', 'passenger_count', 'store_and_fwd_flag', 'pickup_day_no',\n",
       "       'dropoff_day_no', 'pickup_hour', 'dropoff_hour', 'pickup_month',\n",
       "       'dropoff_month', 'distance', 'trip_duration'],\n",
       "      dtype='object')"
      ]
     },
     "execution_count": 50,
     "metadata": {},
     "output_type": "execute_result"
    }
   ],
   "source": [
    "new_df.columns"
   ]
  },
  {
   "cell_type": "code",
   "execution_count": 51,
   "id": "ccae4607",
   "metadata": {},
   "outputs": [
    {
     "name": "stderr",
     "output_type": "stream",
     "text": [
      "C:\\Users\\kriti\\anaconda3\\lib\\site-packages\\pandas\\core\\frame.py:4308: SettingWithCopyWarning: \n",
      "A value is trying to be set on a copy of a slice from a DataFrame\n",
      "\n",
      "See the caveats in the documentation: https://pandas.pydata.org/pandas-docs/stable/user_guide/indexing.html#returning-a-view-versus-a-copy\n",
      "  return super().drop(\n"
     ]
    },
    {
     "data": {
      "text/html": [
       "<div>\n",
       "<style scoped>\n",
       "    .dataframe tbody tr th:only-of-type {\n",
       "        vertical-align: middle;\n",
       "    }\n",
       "\n",
       "    .dataframe tbody tr th {\n",
       "        vertical-align: top;\n",
       "    }\n",
       "\n",
       "    .dataframe thead th {\n",
       "        text-align: right;\n",
       "    }\n",
       "</style>\n",
       "<table border=\"1\" class=\"dataframe\">\n",
       "  <thead>\n",
       "    <tr style=\"text-align: right;\">\n",
       "      <th></th>\n",
       "      <th>pickup_day_no</th>\n",
       "      <th>dropoff_day_no</th>\n",
       "      <th>pickup_month</th>\n",
       "      <th>dropoff_month</th>\n",
       "      <th>distance</th>\n",
       "      <th>trip_duration</th>\n",
       "    </tr>\n",
       "  </thead>\n",
       "  <tbody>\n",
       "    <tr>\n",
       "      <th>109303</th>\n",
       "      <td>4</td>\n",
       "      <td>4</td>\n",
       "      <td>6</td>\n",
       "      <td>6</td>\n",
       "      <td>3.136627</td>\n",
       "      <td>1001</td>\n",
       "    </tr>\n",
       "    <tr>\n",
       "      <th>88884</th>\n",
       "      <td>1</td>\n",
       "      <td>1</td>\n",
       "      <td>3</td>\n",
       "      <td>3</td>\n",
       "      <td>2.351240</td>\n",
       "      <td>1091</td>\n",
       "    </tr>\n",
       "    <tr>\n",
       "      <th>406512</th>\n",
       "      <td>6</td>\n",
       "      <td>6</td>\n",
       "      <td>5</td>\n",
       "      <td>5</td>\n",
       "      <td>2.115719</td>\n",
       "      <td>411</td>\n",
       "    </tr>\n",
       "    <tr>\n",
       "      <th>147250</th>\n",
       "      <td>2</td>\n",
       "      <td>2</td>\n",
       "      <td>3</td>\n",
       "      <td>3</td>\n",
       "      <td>4.145631</td>\n",
       "      <td>622</td>\n",
       "    </tr>\n",
       "    <tr>\n",
       "      <th>651074</th>\n",
       "      <td>5</td>\n",
       "      <td>5</td>\n",
       "      <td>3</td>\n",
       "      <td>3</td>\n",
       "      <td>3.344009</td>\n",
       "      <td>877</td>\n",
       "    </tr>\n",
       "  </tbody>\n",
       "</table>\n",
       "</div>"
      ],
      "text/plain": [
       "        pickup_day_no  dropoff_day_no  pickup_month  dropoff_month  distance  \\\n",
       "109303              4               4             6              6  3.136627   \n",
       "88884               1               1             3              3  2.351240   \n",
       "406512              6               6             5              5  2.115719   \n",
       "147250              2               2             3              3  4.145631   \n",
       "651074              5               5             3              3  3.344009   \n",
       "\n",
       "        trip_duration  \n",
       "109303           1001  \n",
       "88884            1091  \n",
       "406512            411  \n",
       "147250            622  \n",
       "651074            877  "
      ]
     },
     "execution_count": 51,
     "metadata": {},
     "output_type": "execute_result"
    }
   ],
   "source": [
    "# Improving model by dropping unrequired variables\n",
    "\n",
    "new_df.drop(['vendor_id', 'passenger_count', 'store_and_fwd_flag', 'pickup_hour', 'dropoff_hour'],axis=1,inplace=True)\n",
    "new_df.head()"
   ]
  },
  {
   "cell_type": "code",
   "execution_count": 52,
   "id": "646ac6da",
   "metadata": {},
   "outputs": [],
   "source": [
    "#create x and y\n",
    "x = new_df[['pickup_day_no','dropoff_day_no','pickup_month','dropoff_month','distance']]\n",
    "y = new_df['trip_duration']"
   ]
  },
  {
   "cell_type": "markdown",
   "id": "afcdf89d",
   "metadata": {},
   "source": [
    "### Scaling the Data"
   ]
  },
  {
   "cell_type": "markdown",
   "id": "ad1b026d",
   "metadata": {},
   "source": [
    "Standardisation is a preprocessing method used to transform continuous data\n",
    "to make it look normally distributed. In scikit-learn, this is often a necessary step, \n",
    "because many models make underlying assumptions that the training data is normally distributed, \n",
    "and if it isn't, we could risk biasing our model."
   ]
  },
  {
   "cell_type": "code",
   "execution_count": 53,
   "id": "be243e46",
   "metadata": {},
   "outputs": [
    {
     "name": "stdout",
     "output_type": "stream",
     "text": [
      "[[ 0.48654153  0.48407042  1.47591897  1.47558235 -0.06908566]\n",
      " [-1.04795132 -1.04859115 -0.30819734 -0.30837468 -0.24797014]\n",
      " [ 1.50953676  1.50584481  0.88121354  0.88093001 -0.30161379]\n",
      " ...\n",
      " [-1.55944893 -1.55947834 -0.90290277 -0.90302702 -0.62020217]\n",
      " [ 1.50953676  1.50584481  1.47591897  1.47558235  0.23654108]\n",
      " [-0.5364537  -0.53770396 -1.49760821 -1.49767937 -0.52276449]]\n"
     ]
    }
   ],
   "source": [
    "from sklearn.preprocessing import StandardScaler\n",
    "scaler=StandardScaler()\n",
    "x=scaler.fit_transform(x)\n",
    "\n",
    "print(x)"
   ]
  },
  {
   "cell_type": "code",
   "execution_count": 54,
   "id": "8800a379",
   "metadata": {},
   "outputs": [
    {
     "name": "stdout",
     "output_type": "stream",
     "text": [
      "Intercept         569.654370\n",
      "pickup_day_no     -23.899642\n",
      "dropoff_day_no     18.391720\n",
      "pickup_month      -54.164744\n",
      "dropoff_month      62.425253\n",
      "distance           43.586599\n",
      "dtype: float64\n",
      "                            OLS Regression Results                            \n",
      "==============================================================================\n",
      "Dep. Variable:          trip_duration   R-squared:                       0.194\n",
      "Model:                            OLS   Adj. R-squared:                  0.194\n",
      "Method:                 Least Squares   F-statistic:                 2.814e+04\n",
      "Date:                Fri, 27 Jan 2023   Prob (F-statistic):               0.00\n",
      "Time:                        23:59:10   Log-Likelihood:            -4.3117e+06\n",
      "No. Observations:              583457   AIC:                         8.623e+06\n",
      "Df Residuals:                  583451   BIC:                         8.623e+06\n",
      "Df Model:                           5                                         \n",
      "Covariance Type:            nonrobust                                         \n",
      "==================================================================================\n",
      "                     coef    std err          t      P>|t|      [0.025      0.975]\n",
      "----------------------------------------------------------------------------------\n",
      "Intercept        569.6544      1.491    382.167      0.000     566.733     572.576\n",
      "pickup_day_no    -23.8996      2.343    -10.200      0.000     -28.492     -19.307\n",
      "dropoff_day_no    18.3917      2.340      7.858      0.000      13.805      22.979\n",
      "pickup_month     -54.1647     27.658     -1.958      0.050    -108.373       0.043\n",
      "dropoff_month     62.4253     27.655      2.257      0.024       8.222     116.628\n",
      "distance          43.5866      0.117    372.908      0.000      43.358      43.816\n",
      "==============================================================================\n",
      "Omnibus:                   667025.239   Durbin-Watson:                   2.001\n",
      "Prob(Omnibus):                  0.000   Jarque-Bera (JB):      10200538995.599\n",
      "Skew:                          -4.422   Prob(JB):                         0.00\n",
      "Kurtosis:                     650.698   Cond. No.                         619.\n",
      "==============================================================================\n",
      "\n",
      "Notes:\n",
      "[1] Standard Errors assume that the covariance matrix of the errors is correctly specified.\n"
     ]
    }
   ],
   "source": [
    "import statsmodels.formula.api as sm\n",
    "\n",
    "# create a fitted model with all three features\n",
    "lm_model = sm.ols(formula='trip_duration ~ pickup_day_no + dropoff_day_no + pickup_month + dropoff_month + distance', \n",
    "                           data=new_df).fit()\n",
    "\n",
    "# print the coefficients\n",
    "print(lm_model.params)\n",
    "print(lm_model.summary())"
   ]
  },
  {
   "cell_type": "markdown",
   "id": "d69b08bb",
   "metadata": {},
   "source": [
    "### Evaluating the model"
   ]
  },
  {
   "cell_type": "code",
   "execution_count": 55,
   "id": "7dee20ce",
   "metadata": {},
   "outputs": [],
   "source": [
    "from sklearn.model_selection import train_test_split\n",
    "\n",
    "#Split the data into test and train\n",
    "train_x,test_x,train_y,test_y = train_test_split(x, y , random_state = 56)"
   ]
  },
  {
   "cell_type": "code",
   "execution_count": 56,
   "id": "d05c420a",
   "metadata": {},
   "outputs": [],
   "source": [
    "#importing Linear Regression and metric mean square error\n",
    "from sklearn.linear_model import LinearRegression as LR\n",
    "from sklearn.metrics import mean_absolute_error as mae"
   ]
  },
  {
   "cell_type": "code",
   "execution_count": 57,
   "id": "6915b8d9",
   "metadata": {},
   "outputs": [
    {
     "data": {
      "text/plain": [
       "LinearRegression(normalize=True)"
      ]
     },
     "execution_count": 57,
     "metadata": {},
     "output_type": "execute_result"
    }
   ],
   "source": [
    "# Creating instance of Linear Regresssion with Normalised Data\n",
    "lr = LR(normalize = True)\n",
    "\n",
    "# Fitting the model\n",
    "lr.fit(train_x, train_y)"
   ]
  },
  {
   "cell_type": "code",
   "execution_count": 58,
   "id": "7ded3523",
   "metadata": {},
   "outputs": [
    {
     "name": "stdout",
     "output_type": "stream",
     "text": [
      "Training Mean Absolute Error 296.4683169393284\n"
     ]
    }
   ],
   "source": [
    "# Predicting over the Train Set and calculating error\n",
    "train_predict = lr.predict(train_x)\n",
    "k = mae(train_predict, train_y)\n",
    "print('Training Mean Absolute Error', k )"
   ]
  },
  {
   "cell_type": "code",
   "execution_count": 59,
   "id": "8519fe5d",
   "metadata": {},
   "outputs": [
    {
     "name": "stdout",
     "output_type": "stream",
     "text": [
      "Test Mean Absolute Error 297.69538927186966\n"
     ]
    }
   ],
   "source": [
    "# Predicting over the Test Set and calculating error\n",
    "test_predict = lr.predict(test_x)\n",
    "k = mae(test_predict, test_y)\n",
    "print('Test Mean Absolute Error', k )"
   ]
  },
  {
   "cell_type": "code",
   "execution_count": null,
   "id": "f9f36d2b",
   "metadata": {},
   "outputs": [],
   "source": []
  }
 ],
 "metadata": {
  "kernelspec": {
   "display_name": "Python 3",
   "language": "python",
   "name": "python3"
  },
  "language_info": {
   "codemirror_mode": {
    "name": "ipython",
    "version": 3
   },
   "file_extension": ".py",
   "mimetype": "text/x-python",
   "name": "python",
   "nbconvert_exporter": "python",
   "pygments_lexer": "ipython3",
   "version": "3.8.8"
  }
 },
 "nbformat": 4,
 "nbformat_minor": 5
}
